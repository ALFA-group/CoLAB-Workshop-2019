{
 "cells": [
  {
   "cell_type": "markdown",
   "metadata": {
    "pycharm": {
     "metadata": false
    }
   },
   "source": [
    "## Learning Objectives\n",
    "The goal of this notebook is for describing data and to see and practice:\n",
    "- Load raw data\n",
    "- View the loaded data\n",
    "- Formulate an explorative data description question\n",
    " - Describe the raw data tables\n",
    "- See and practice data science research tools and practices\n",
    "\n",
    "### 1 Practical Data Science Research\n",
    "Can we find good online learning strategies?\n",
    "\n",
    "We need to define:\n",
    "- \"good\", what is good in context of learning?\n",
    "- \"learning\", what is learning, and how do you measure it?\n",
    "- \"strategy\", what is a strategy for learning and how would you observe it?\n",
    "\n",
    "Then we need to ask:\n",
    "- Is it possible to observe any learning in the data?\n",
    "- Are there any observable strategies?\n",
    "\n",
    "**Note:** Without a clear goal you can get lost in the data, however there is also a need to explore.\n",
    "So how do you balance broad exploration for knowledge and in-depth exploitation knowledge.\n",
    "\n",
    "#### Data used\n",
    "```\n",
    "Kuzilek J., Hlosta M., Zdrahal Z. Open University Learning Analytics dataset Sci. Data 4:170171 doi: 10.1038/sdata.2017.171 (2017).\n",
    "```\n",
    "See [https://analyse.kmi.open.ac.uk/open_dataset#about](https://analyse.kmi.open.ac.uk/open_dataset#about)\n"
   ]
  },
  {
   "cell_type": "markdown",
   "metadata": {
    "pycharm": {
     "metadata": false
    }
   },
   "source": [
    "#### What do the tables in the data look like?\n",
    "**Note:** If you are getting ahead explore the other tables as well\n"
   ]
  },
  {
   "cell_type": "markdown",
   "metadata": {
    "pycharm": {
     "metadata": false
    }
   },
   "source": [
    "### 2 Import software libraries\n",
    "There are data science libraries in `Python` for data structures, analysis and plotting\n",
    "\n",
    "**Note:**\n",
    "- Using the correct path to the library is important. \n",
    " - Do not ask me how many times I have had import errors. I usually have a \"standard\" \n",
    "layout for projects to avoid spending too  much time on configuration of software.\n",
    "- Using an appropriate data structure is important for usability and computational performance\n"
   ]
  },
  {
   "cell_type": "code",
   "execution_count": 1,
   "metadata": {
    "pycharm": {
     "is_executing": false,
     "metadata": false,
     "name": "#%%\n"
    }
   },
   "outputs": [],
   "source": [
    "# Import python standard library for operating system functionality. \n",
    "# This improves portability \n",
    "import os\n",
    "# Library for random numbers\n",
    "import random\n",
    "\n",
    "# Blank line convention to separate the standard libraries and the other libraries.\n",
    "# Data structure and analysis library\n",
    "import pandas as pd\n",
    "# Data visualization based on `matplotlib`\n",
    "import seaborn as sns\n",
    "# Plotting library\n",
    "import matplotlib.pyplot as plt\n"
   ]
  },
  {
   "cell_type": "markdown",
   "metadata": {
    "pycharm": {
     "metadata": false
    }
   },
   "source": [
    "### 3 Notebook variables and settings\n",
    "\n",
    "By declaring variables with at the top means that they are in\n",
    "scope for the entire `Jupyter` notebook\n",
    "\n",
    "**Note:**\n",
    "- The scope of the variables in a `Jupyter` notebook can be confusing if your programing experience is in a different\n",
    "environment.\n",
    " - A code structure can reduce confusion and reproducability\n",
    "- Sensible variable names provides better readability\n",
    " - Editors with auto-complete maintains typing efficiency\n"
   ]
  },
  {
   "cell_type": "code",
   "execution_count": 2,
   "metadata": {
    "pycharm": {
     "is_executing": false,
     "metadata": false,
     "name": "#%%\n"
    }
   },
   "outputs": [
    {
     "name": "stdout",
     "output_type": "stream",
     "text": [
      "/Users/erikhemberg/Documents/MIT_PostDoc/data_science_workshop/CoLAB-Workshop-2019/src\n"
     ]
    }
   ],
   "source": [
    "# Where am I\n",
    "print(os.getcwd())\n",
    "# Declare constants\n",
    "DATA_FOLDER = '../data'\n",
    "# Set visualization styles with a predefined `seaborn` style\n",
    "sns.set_context(\"notebook\", font_scale=1.5, rc={\"lines.linewidth\": 2.5})\n"
   ]
  },
  {
   "cell_type": "markdown",
   "metadata": {
    "pycharm": {
     "metadata": false
    }
   },
   "source": [
    "### 4 Load raw data\n",
    "We want to work with data in the `DATA_FOLDER`\n",
    "- What is the size of the data you want to work with?\n",
    "- Can it fit in memory on the the hardware you are using?\n",
    " - **Note:** Too large data can reduce the performance.\n",
    "- Is all the data needed at this point?\n",
    "\n",
    "**Note:** When writing output, remember to be consistent, that makes searching outupt, e.g. files or content."
   ]
  },
  {
   "cell_type": "code",
   "execution_count": 3,
   "metadata": {
    "pycharm": {
     "is_executing": false,
     "metadata": false,
     "name": "#%%\n"
    }
   },
   "outputs": [
    {
     "name": "stdout",
     "output_type": "stream",
     "text": [
      "File name: File size\n",
      "studentAssessment.csv: 5.427 MB\n",
      "studentInfo.csv: 3.301 MB\n",
      "studentVle.csv: 432.812 MB\n",
      "vle_data.zip: 44.585 MB\n",
      "README.md: 0.000 MB\n",
      "courses.csv: 0.001 MB\n",
      "vle.csv: 0.248 MB\n",
      "studentRegistration.csv: 1.059 MB\n",
      "assessments.csv: 0.008 MB\n"
     ]
    }
   ],
   "source": [
    "print('File name: File size')\n",
    "# List files in the `DATA_FOLDER`\n",
    "files = os.listdir(DATA_FOLDER)\n",
    "# Iterate over each file in the folder\n",
    "for file_name in files:\n",
    "    # Get the file stats\n",
    "    file_stat = os.stat(os.path.join(DATA_FOLDER, file_name))\n",
    "    # Convert the file size in bytes to MB\n",
    "    size_MB = file_stat.st_size / 1024**2 \n",
    "    # Print the file name and size\n",
    "    print('{}: {:.3f} MB'.format(file_name, size_MB))\n",
    "    "
   ]
  },
  {
   "cell_type": "markdown",
   "metadata": {
    "pycharm": {
     "metadata": false,
     "name": "#%% md\n"
    }
   },
   "source": [
    "What is in the data that can help answer the research question?\n",
    "- Break down the exploration into small steps, sub questions. \n",
    "- `cources.csv` seems promising and not too large. \n",
    "\n",
    "Initial sub question is\n",
    "- How many courses are there in the data set?\n"
   ]
  },
  {
   "cell_type": "code",
   "execution_count": 4,
   "metadata": {
    "pycharm": {
     "is_executing": false
    }
   },
   "outputs": [],
   "source": [
    "# Load \"raw\" data regarding courses. \n",
    "\n",
    "# Loading data in a separate cell can avoid computationally expensive file IO.\n",
    "# Declare the path to the data file with course info\n",
    "courses_path = os.path.join(DATA_FOLDER, 'courses.csv')\n",
    "# Use `pandas` `read_csv` to read the CSV data file in as a `pandas` `DataFrame`\n",
    "courses = pd.read_csv(courses_path)\n"
   ]
  },
  {
   "cell_type": "markdown",
   "metadata": {
    "pycharm": {
     "metadata": false,
     "name": "#%% md\n"
    }
   },
   "source": [
    "When can we work with a subset of the the data and why would we?\n",
    "- Early in development to speed up parts not dependent\n",
    " on all data by both reducing computational time and analysis.\n",
    " \n",
    "**Note:** avoid drawing too strong conclusions on data subsets.\n"
   ]
  },
  {
   "cell_type": "code",
   "execution_count": 5,
   "metadata": {
    "pycharm": {
     "is_executing": false,
     "metadata": false,
     "name": "#%%\n"
    }
   },
   "outputs": [],
   "source": [
    "# Define functions in separate cells for code separation and structure.\n",
    "def count_lines(file_path):\n",
    "    \"\"\"\n",
    "    Count total number of lines in a file. \n",
    "    \n",
    "    Not optimized for speed. See e.g. https://stackoverflow.com/questions/845058/how-to-get-line-count-cheaply-in-python\n",
    "    :param file_path: Path to file\n",
    "    :type file_path: str\n",
    "    :return: Total number of lines in the file\n",
    "    :rtype int:\n",
    "    \"\"\"\n",
    "    with open(file_path, 'r') as file_descriptor:\n",
    "        _n_lines = 0\n",
    "        for _ in file_descriptor:\n",
    "            _n_lines += 1\n",
    "            \n",
    "    return _n_lines\n"
   ]
  },
  {
   "cell_type": "markdown",
   "metadata": {
    "pycharm": {
     "metadata": false,
     "name": "#%% md\n"
    }
   },
   "source": [
    "Get a data sample from the `courses.csv` data\n"
   ]
  },
  {
   "cell_type": "code",
   "execution_count": 6,
   "metadata": {
    "pycharm": {
     "is_executing": false,
     "metadata": false,
     "name": "#%%\n"
    }
   },
   "outputs": [
    {
     "name": "stdout",
     "output_type": "stream",
     "text": [
      "Rows and columns in the data sample: (3, 3)\n"
     ]
    }
   ],
   "source": [
    "# Ratio of lines to sample\n",
    "RATIO_OF_SAMPLES_FROM_DATA_FILE = 0.2\n",
    "# Get number of lines in the file\n",
    "n_lines = count_lines(courses_path)\n",
    "# Get number of lines to sample. Cast it to an integer \n",
    "n_samples_course = int(n_lines * RATIO_OF_SAMPLES_FROM_DATA_FILE)\n",
    "# `pandas` `read_csv` API specifies number of lines(rows) to skip\n",
    "n_lines_to_skip = n_lines - n_samples_course\n",
    "# Uniformly randomly sample which lines to skip. They need to be ordered\n",
    "skip_lines = sorted(random.sample(range(1, n_lines), n_lines_to_skip))\n",
    "# Read file the sampled lines of the file\n",
    "sample_courses = pd.read_csv(courses_path, skiprows=skip_lines)\n",
    "# Print sampled data. Note the difference in size with the complete data frame \n",
    "print(\"Rows and columns in the data sample: {}\".format(sample_courses.shape))\n",
    "# Assert that the sample has fewer (or equal) lines than the original\n",
    "# `assert` is a very convenient keyword to check TODO elaborate\n",
    "assert n_lines >= sample_courses.shape[0]"
   ]
  },
  {
   "cell_type": "markdown",
   "metadata": {
    "pycharm": {
     "metadata": false,
     "name": "#%% md\n"
    }
   },
   "source": [
    "What does the data look like"
   ]
  },
  {
   "cell_type": "code",
   "execution_count": 7,
   "metadata": {
    "pycharm": {
     "is_executing": false,
     "metadata": false,
     "name": "#%%\n"
    }
   },
   "outputs": [
    {
     "name": "stdout",
     "output_type": "stream",
     "text": [
      "Information about the data frame\n",
      "<class 'pandas.core.frame.DataFrame'>\n",
      "RangeIndex: 22 entries, 0 to 21\n",
      "Data columns (total 3 columns):\n",
      "code_module                   22 non-null object\n",
      "code_presentation             22 non-null object\n",
      "module_presentation_length    22 non-null int64\n",
      "dtypes: int64(1), object(2)\n",
      "memory usage: 608.0+ bytes\n",
      "None\n",
      "First row in dataframe\n",
      "  code_module code_presentation  module_presentation_length\n",
      "0         AAA             2013J                         268\n",
      "Columns: Index(['code_module', 'code_presentation', 'module_presentation_length'], dtype='object')\n"
     ]
    }
   ],
   "source": [
    "print(\"Information about the data frame\")\n",
    "print(courses.info())\n",
    "print(\"First row in dataframe\")\n",
    "print(courses.head(1))\n",
    "# What are the names of the columns\n",
    "print(\"Columns: {}\".format(courses.columns))\n"
   ]
  },
  {
   "cell_type": "code",
   "execution_count": 8,
   "metadata": {
    "pycharm": {
     "metadata": false,
     "name": "#%%\n"
    }
   },
   "outputs": [
    {
     "data": {
      "text/html": [
       "<div>\n",
       "<style scoped>\n",
       "    .dataframe tbody tr th:only-of-type {\n",
       "        vertical-align: middle;\n",
       "    }\n",
       "\n",
       "    .dataframe tbody tr th {\n",
       "        vertical-align: top;\n",
       "    }\n",
       "\n",
       "    .dataframe thead th {\n",
       "        text-align: right;\n",
       "    }\n",
       "</style>\n",
       "<table border=\"1\" class=\"dataframe\">\n",
       "  <thead>\n",
       "    <tr style=\"text-align: right;\">\n",
       "      <th></th>\n",
       "      <th>code_module</th>\n",
       "      <th>code_presentation</th>\n",
       "      <th>module_presentation_length</th>\n",
       "    </tr>\n",
       "  </thead>\n",
       "  <tbody>\n",
       "    <tr>\n",
       "      <th>0</th>\n",
       "      <td>AAA</td>\n",
       "      <td>2013J</td>\n",
       "      <td>268</td>\n",
       "    </tr>\n",
       "  </tbody>\n",
       "</table>\n",
       "</div>"
      ],
      "text/plain": [
       "  code_module code_presentation  module_presentation_length\n",
       "0         AAA             2013J                         268"
      ]
     },
     "metadata": {},
     "output_type": "display_data"
    }
   ],
   "source": [
    "# There are often prettier ways to display things.\n",
    "import IPython.display as display\n",
    "# Use the `IPython` display function\n",
    "display.display(courses.head(1))\n"
   ]
  },
  {
   "cell_type": "markdown",
   "metadata": {
    "pycharm": {
     "metadata": false,
     "name": "#%% md\n"
    }
   },
   "source": [
    "### 5 Explore the data \n",
    "\n",
    "The data is now loaded. So we can see if we can answer some questions.\n",
    "- How many unique modules (`code_module`) are there?\n",
    " - **Note:** It can be useful to formulate questions to guide the exploration to avoid getting lost.\n",
    "- How many unique module presentations (`code_presentation`) are there? "
   ]
  },
  {
   "cell_type": "code",
   "execution_count": 9,
   "metadata": {
    "pycharm": {
     "is_executing": false,
     "metadata": false,
     "name": "#%%\n"
    }
   },
   "outputs": [
    {
     "name": "stdout",
     "output_type": "stream",
     "text": [
      "Categories for code_module: ['AAA' 'BBB' 'CCC' 'DDD' 'EEE' 'FFF' 'GGG']; n categories: 7\n",
      "Categories for code_presentation: ['2013J' '2014J' '2013B' '2014B']; n categories: 4\n"
     ]
    }
   ],
   "source": [
    "# Columns of interest\n",
    "cols = ['code_module', 'code_presentation']\n",
    "# Iterate over columns in the data frame\n",
    "for col in cols:\n",
    "    # Get unique column values\n",
    "    unique_values = courses[col].unique()\n",
    "    # Get number of unique values\n",
    "    n_unique_values = len(unique_values)\n",
    "    print('Categories for {}: {}; n categories: {}'.format(col, unique_values, n_unique_values))\n",
    "    "
   ]
  },
  {
   "cell_type": "markdown",
   "metadata": {
    "pycharm": {
     "is_executing": false,
     "metadata": false,
     "name": "#%% md\n"
    }
   },
   "source": [
    "What is the presentation length for each code_module?\n",
    "- What could the difference depend on?\n"
   ]
  },
  {
   "cell_type": "code",
   "execution_count": 10,
   "metadata": {
    "pycharm": {
     "is_executing": false,
     "metadata": false,
     "name": "#%%\n"
    }
   },
   "outputs": [
    {
     "data": {
      "text/plain": [
       "Text(0, 0.5, 'Module Presentation Length')"
      ]
     },
     "execution_count": 10,
     "metadata": {},
     "output_type": "execute_result"
    },
    {
     "data": {
      "image/png": "[encoded data removed]",
      "text/plain": [
       "<Figure size 432x288 with 1 Axes>"
      ]
     },
     "metadata": {
      "needs_background": "light"
     },
     "output_type": "display_data"
    }
   ],
   "source": [
    "# Column name for x-axis values\n",
    "xs = 'code_module'\n",
    "# Column name for y-axis values\n",
    "ys = 'module_presentation_length'\n",
    "# Column name for the colors in the plot\n",
    "group_name = 'code_presentation'\n",
    "\n",
    "# Plot the data points\n",
    "ax = sns.stripplot(x=xs, y=ys, hue=group_name, data=courses)\n",
    "# Set the legend\n",
    "plt.legend(bbox_to_anchor=(1.05, 1), loc=2, borderaxespad=0.)\n",
    "# We call `matplotlib` instead of using the `seaborn` api\n",
    "# Set plot title\n",
    "ax.set_title('Presentation Length of Modules')\n",
    "# Lazy programmer showoff. Create an anonymous function (lambda) that splits the function argument on `_` to a list and\n",
    "# captalizes each element. Then the elements of the list are joined as a string separated by ` `\n",
    "pretty_label = lambda x: ' '.join([_.capitalize() for _ in x.split('_')])\n",
    "# Set x label\n",
    "ax.set_xlabel(pretty_label(xs))\n",
    "# Set y label\n",
    "ax.set_ylabel(pretty_label(ys))\n"
   ]
  },
  {
   "cell_type": "markdown",
   "metadata": {
    "pycharm": {
     "metadata": false,
     "name": "#%% md\n"
    }
   },
   "source": [
    "Tabular description of the groups based on descriptive statistics"
   ]
  },
  {
   "cell_type": "code",
   "execution_count": 11,
   "metadata": {
    "pycharm": {
     "is_executing": false,
     "metadata": false,
     "name": "#%%\n"
    }
   },
   "outputs": [
    {
     "name": "stdout",
     "output_type": "stream",
     "text": [
      "Descriptive stats for module_presentation_length grouped by code_module: AAA\n",
      "count      2.000000\n",
      "mean     268.500000\n",
      "std        0.707107\n",
      "min      268.000000\n",
      "25%      268.250000\n",
      "50%      268.500000\n",
      "75%      268.750000\n",
      "max      269.000000\n",
      "Name: module_presentation_length, dtype: float64\n",
      "Descriptive stats for module_presentation_length grouped by code_module: BBB\n",
      "count      4.000000\n",
      "mean     251.000000\n",
      "std       16.532796\n",
      "min      234.000000\n",
      "25%      238.500000\n",
      "50%      251.000000\n",
      "75%      263.500000\n",
      "max      268.000000\n",
      "Name: module_presentation_length, dtype: float64\n",
      "Descriptive stats for module_presentation_length grouped by code_module: CCC\n",
      "count      2.00000\n",
      "mean     255.00000\n",
      "std       19.79899\n",
      "min      241.00000\n",
      "25%      248.00000\n",
      "50%      255.00000\n",
      "75%      262.00000\n",
      "max      269.00000\n",
      "Name: module_presentation_length, dtype: float64\n",
      "Descriptive stats for module_presentation_length grouped by code_module: DDD\n",
      "count      4.000000\n",
      "mean     251.000000\n",
      "std       12.138094\n",
      "min      240.000000\n",
      "25%      240.750000\n",
      "50%      251.000000\n",
      "75%      261.250000\n",
      "max      262.000000\n",
      "Name: module_presentation_length, dtype: float64\n",
      "Descriptive stats for module_presentation_length grouped by code_module: EEE\n",
      "count      3.000000\n",
      "mean     259.333333\n",
      "std       15.885003\n",
      "min      241.000000\n",
      "25%      254.500000\n",
      "50%      268.000000\n",
      "75%      268.500000\n",
      "max      269.000000\n",
      "Name: module_presentation_length, dtype: float64\n",
      "Descriptive stats for module_presentation_length grouped by code_module: FFF\n",
      "count      4.000000\n",
      "mean     254.500000\n",
      "std       16.176114\n",
      "min      240.000000\n",
      "25%      240.750000\n",
      "50%      254.500000\n",
      "75%      268.250000\n",
      "max      269.000000\n",
      "Name: module_presentation_length, dtype: float64\n",
      "Descriptive stats for module_presentation_length grouped by code_module: GGG\n",
      "count      3.000000\n",
      "mean     257.000000\n",
      "std       14.422205\n",
      "min      241.000000\n",
      "25%      251.000000\n",
      "50%      261.000000\n",
      "75%      265.000000\n",
      "max      269.000000\n",
      "Name: module_presentation_length, dtype: float64\n"
     ]
    }
   ],
   "source": [
    "# Get the groups\n",
    "code_modules = courses.groupby(by=xs)\n",
    "# Iterate over the groups\n",
    "for name, group in code_modules:\n",
    "    print('Descriptive stats for {} grouped by {}: {}'.format(ys, xs, name))\n",
    "    print(group[ys].describe())\n",
    "    "
   ]
  },
  {
   "cell_type": "markdown",
   "metadata": {
    "pycharm": {
     "metadata": false
    }
   },
   "source": [
    "#### What is the descriptive statistics and visualization of the other tables in the data?\n"
   ]
  },
  {
   "cell_type": "markdown",
   "metadata": {
    "pycharm": {
     "metadata": false
    }
   },
   "source": [
    "### 6 Explore the concept of learning as measured by final grade\n",
    "- What is the final grade?\n",
    " - In this data it is `final_result` in the `studentInfo` table"
   ]
  },
  {
   "cell_type": "code",
   "execution_count": 12,
   "metadata": {
    "pycharm": {
     "is_executing": false,
     "metadata": false,
     "name": "#%%\n"
    }
   },
   "outputs": [
    {
     "name": "stdout",
     "output_type": "stream",
     "text": [
      "<class 'pandas.core.frame.DataFrame'>\n",
      "RangeIndex: 32593 entries, 0 to 32592\n",
      "Data columns (total 12 columns):\n",
      "code_module             32593 non-null object\n",
      "code_presentation       32593 non-null object\n",
      "id_student              32593 non-null int64\n",
      "gender                  32593 non-null object\n",
      "region                  32593 non-null object\n",
      "highest_education       32593 non-null object\n",
      "imd_band                31482 non-null object\n",
      "age_band                32593 non-null object\n",
      "num_of_prev_attempts    32593 non-null int64\n",
      "studied_credits         32593 non-null int64\n",
      "disability              32593 non-null object\n",
      "final_result            32593 non-null object\n",
      "dtypes: int64(3), object(9)\n",
      "memory usage: 3.0+ MB\n",
      "None\n"
     ]
    }
   ],
   "source": [
    "# Load data\n",
    "student_info_path = os.path.join(DATA_FOLDER, 'studentInfo.csv')\n",
    "student_info = pd.read_csv(student_info_path)\n",
    "print(student_info.info())\n"
   ]
  },
  {
   "cell_type": "markdown",
   "metadata": {
    "pycharm": {
     "metadata": false
    }
   },
   "source": [
    "**Note:** With unfamiliar APIs and dynamically typed languages such as `python` it can be difficult to know which \n",
    "variable operations are syntactically correct."
   ]
  },
  {
   "cell_type": "code",
   "execution_count": 13,
   "metadata": {
    "pycharm": {
     "is_executing": false,
     "metadata": false,
     "name": "#%%\n"
    }
   },
   "outputs": [
    {
     "name": "stdout",
     "output_type": "stream",
     "text": [
      "Final result values (categories): ['Pass' 'Withdrawn' 'Fail' 'Distinction']\n",
      "Pass           12361\n",
      "Withdrawn      10156\n",
      "Fail            7052\n",
      "Distinction     3024\n",
      "Name: final_result, dtype: int64\n",
      "<class 'pandas.core.series.Series'> Index(['Pass', 'Withdrawn', 'Fail', 'Distinction'], dtype='object')\n"
     ]
    },
    {
     "data": {
      "text/plain": [
       "Text(0, 0.5, 'Ratio')"
      ]
     },
     "execution_count": 13,
     "metadata": {},
     "output_type": "execute_result"
    },
    {
     "data": {
      "image/png": "[encoded data removed]",
      "text/plain": [
       "<Figure size 432x288 with 1 Axes>"
      ]
     },
     "metadata": {
      "needs_background": "light"
     },
     "output_type": "display_data"
    }
   ],
   "source": [
    "# Get final results column values\n",
    "\n",
    "# Get the unique values\n",
    "print('Final result values (categories): {}'.format(student_info['final_result'].unique()))\n",
    "# Get the number of values for each category\n",
    "final_results = student_info['final_result'].value_counts()\n",
    "print(final_results.head())\n",
    "# These values are now a `pandas.Series` indexed by the category\n",
    "print(type(final_results), final_results.index)\n",
    "# Normalize the value counts\n",
    "final_results = final_results.div(final_results.sum(), axis=0)\n",
    "# Plot the final results categories\n",
    "ax = final_results.plot(kind='bar')\n",
    "ax.set_title('Final result ratios for all students')\n",
    "ax.set_xlabel('Final Result')\n",
    "ax.set_ylabel('Ratio')\n"
   ]
  },
  {
   "cell_type": "markdown",
   "metadata": {
    "pycharm": {
     "metadata": false
    }
   },
   "source": [
    "What is the completion rate?"
   ]
  },
  {
   "cell_type": "code",
   "execution_count": 14,
   "metadata": {
    "pycharm": {
     "is_executing": false,
     "metadata": false,
     "name": "#%%\n"
    }
   },
   "outputs": [
    {
     "name": "stdout",
     "output_type": "stream",
     "text": [
      "Final result:\n",
      "not completed: 0.528\n",
      "completed: 0.472\n"
     ]
    }
   ],
   "source": [
    "# Sum the values for non-completion\n",
    "# Find the rows that has Fail or Withdrawn and sum the values\n",
    "def get_completion_rate(df):\n",
    "    not_completed = df.loc[['Fail', 'Withdrawn']].sum()\n",
    "    completed = 1.0 - not_completed\n",
    "    print(\"Final result:\")\n",
    "    print(\"not completed: {:.3f}\".format(not_completed))\n",
    "    print(\"completed: {:.3f}\".format(completed))\n",
    "\n",
    "get_completion_rate(final_results)"
   ]
  },
  {
   "cell_type": "markdown",
   "metadata": {
    "pycharm": {
     "metadata": false
    }
   },
   "source": [
    "What is the final grade for module `AAA`?\n",
    "- Now we need to filter the data based on the module we are interested in\n",
    "\n",
    "**Note:** The code seems repetitive"
   ]
  },
  {
   "cell_type": "code",
   "execution_count": 15,
   "metadata": {
    "pycharm": {
     "is_executing": false,
     "metadata": false,
     "name": "#%%\n"
    }
   },
   "outputs": [
    {
     "name": "stdout",
     "output_type": "stream",
     "text": [
      "Pass           487\n",
      "Withdrawn      126\n",
      "Fail            91\n",
      "Distinction     44\n",
      "Name: final_result, dtype: int64\n"
     ]
    },
    {
     "data": {
      "text/plain": [
       "Text(0, 0.5, 'Ratio')"
      ]
     },
     "execution_count": 15,
     "metadata": {},
     "output_type": "execute_result"
    },
    {
     "data": {
      "image/png": "[encoded data removed]",
      "text/plain": [
       "<Figure size 432x288 with 1 Axes>"
      ]
     },
     "metadata": {
      "needs_background": "light"
     },
     "output_type": "display_data"
    }
   ],
   "source": [
    "# Define code module\n",
    "code_module = 'AAA'\n",
    "# Get the number of values for each category for the code module\n",
    "student_info_f = student_info.loc[student_info['code_module'] == code_module]\n",
    "final_results_f = student_info_f['final_result'].value_counts()\n",
    "print(final_results_f.head())\n",
    "# Normalize the value counts\n",
    "final_results_f = final_results_f.div(final_results_f.sum(), axis=0)\n",
    "# Plot the final results categories\n",
    "ax = final_results_f.plot(kind='bar')\n",
    "ax.set_title('Final result ratios for all students on {}'.format(code_module))\n",
    "ax.set_xlabel('Final Result')\n",
    "ax.set_ylabel('Ratio')\n"
   ]
  },
  {
   "cell_type": "markdown",
   "metadata": {
    "pycharm": {
     "metadata": false
    }
   },
   "source": [
    "What is the completion rate for `AAA`?"
   ]
  },
  {
   "cell_type": "code",
   "execution_count": 16,
   "metadata": {
    "pycharm": {
     "is_executing": false,
     "metadata": false,
     "name": "#%%\n"
    }
   },
   "outputs": [
    {
     "name": "stdout",
     "output_type": "stream",
     "text": [
      "Final result:\n",
      "not completed: 0.290\n",
      "completed: 0.710\n"
     ]
    }
   ],
   "source": [
    "get_completion_rate(final_results_f)\n"
   ]
  },
  {
   "cell_type": "markdown",
   "metadata": {
    "pycharm": {
     "metadata": false,
     "name": "#%% md\n"
    }
   },
   "source": [
    "#### What are the final results for each code_module?\n"
   ]
  }
 ],
 "metadata": {
  "kernelspec": {
   "display_name": "Python 3",
   "language": "python",
   "name": "python3"
  },
  "language_info": {
   "codemirror_mode": {
    "name": "ipython",
    "version": 3
   },
   "file_extension": ".py",
   "mimetype": "text/x-python",
   "name": "python",
   "nbconvert_exporter": "python",
   "pygments_lexer": "ipython3",
   "version": "3.7.1"
  },
  "stem_cell": {
   "cell_type": "raw",
   "metadata": {
    "pycharm": {
     "metadata": false
    }
   },
   "source": ""
  }
 },
 "nbformat": 4,
 "nbformat_minor": 2
}
