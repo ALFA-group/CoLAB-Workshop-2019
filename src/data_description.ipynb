{
  "cells": [
    {
      "cell_type": "markdown",
      "source": "## Learning Objectives\nThe goal of this notebook is for describing data and to see and practice:\n- Load raw data\n- View the loaded data\n- Formulate an explorative data description question\n - Describe the raw data tables\n- See and practice data science research tools and practices\n\n### Practical Data Science Research\nCan we find good online learning strategies?\n\nWe need to define:\n- \"good\", what is good in context of learning?\n- \"learning\", what is learning, and how do you measure it?\n- \"strategy\", what is a strategy for learning and how would you observe it?\n\nThen we need to ask:\n- Is it possible to observe any learning in the data?\n- Are there any observable strategies?\n\n**Note:** Without a clear goal you can get lost in the data, however there is also a need to explore.\nSo how do you balance broad exploration for knowledge and in-depth exploitation knowledge.\n\n#### Data used\n```\nKuzilek J., Hlosta M., Zdrahal Z. Open University Learning Analytics dataset Sci. Data 4:170171 doi: 10.1038/sdata.2017.171 (2017).\n```\nSee [https://analyse.kmi.open.ac.uk/open_dataset#about](https://analyse.kmi.open.ac.uk/open_dataset#about)\n",
      "metadata": {
        "pycharm": {
          "metadata": false
        }
      }
    },
    {
      "cell_type": "markdown",
      "source": "#### What does the tables in the data look like?\n**Note:** If you are getting ahead explore the other tables as well\n",
      "metadata": {
        "pycharm": {
          "metadata": false
        }
      }
    },
    {
      "cell_type": "markdown",
      "metadata": {
        "pycharm": {
          "metadata": false
        }
      },
      "source": "### Import software libraries\nThere are data science libraries in `Python` for data structures, analysis and plotting\n\n**Note:**\n- Using the correct path to the library is important. \n - Do not ask me how many times I have had import errors. I usually have a \"standard\" \nlayout for projects to avoid spending too  much time on configuration of software.\n- Using an appropriate data structure is important for usability and computational performance\n"
    },
    {
      "cell_type": "code",
      "execution_count": 4,
      "metadata": {
        "pycharm": {
          "is_executing": false,
          "metadata": false,
          "name": "#%%\n"
        }
      },
      "outputs": [],
      "source": "# Import python standard library for operating system functionality. \n# This improves portability \nimport os\n# Library for random numbers\nimport random\n\n# Blank line convention to separate the standard libraries and the other libraries.\n# Data structure and analysis library\nimport pandas as pd\n# Data visualization based on `matplotlib`\nimport seaborn as sns\n# Plotting library\nimport matplotlib.pyplot as plt\n"
    },
    {
      "cell_type": "markdown",
      "metadata": {
        "pycharm": {
          "metadata": false
        }
      },
      "source": "### Notebook variables and settings\n\nBy declaring variables with at the top means that they are in\nscope for the entire `Jupyter` notebook\n\n**Note:**\n- The scope of the variables in a `Jupyter` notebook can be confusing if your programing experience is in a different\nenvironment.\n - A code structure can reduce confusion and reproducability\n- Sensible variable names provides better readability\n - Editors with auto-complete maintains typing efficiency\n"
    },
    {
      "cell_type": "code",
      "execution_count": 5,
      "metadata": {
        "pycharm": {
          "is_executing": false,
          "metadata": false,
          "name": "#%%\n"
        }
      },
      "outputs": [],
      "source": [
        "# Declare constants\n",
        "DATA_FOLDER \u003d \u0027../data\u0027\n",
        "# Set visualization styles with a predefined `seaborn` style\n",
        "sns.set_context(\"notebook\", font_scale\u003d1.5, rc\u003d{\"lines.linewidth\": 2.5})\n"
      ]
    },
    {
      "cell_type": "markdown",
      "metadata": {
        "pycharm": {
          "metadata": false
        }
      },
      "source": "### Load raw data\nWe want to work with data in the `DATA_FOLDER`\n- What is the size of the data you want to work with?\n- Can it fit in memory on the the hardware you are using?\n - **Note:** Too large data can reduce the performance.\n- Is all the data needed at this point?\n\n**Note:** When writing output, remember to be consistent, that makes searching outupt, e.g. files or content."
    },
    {
      "cell_type": "code",
      "execution_count": 6,
      "metadata": {
        "pycharm": {
          "is_executing": false,
          "metadata": false,
          "name": "#%%\n"
        }
      },
      "outputs": [
        {
          "name": "stdout",
          "text": [
            "File name: File size\nvle_data.ziph1eean4u.tmp: 10.609 MB\nstudentAssessment.csv: 5.427 MB\nstudentInfo.csv: 3.301 MB\nstudentVle.csv: 432.812 MB\nvle_data.zip: 44.585 MB\nREADME.md: 0.000 MB\ncourses.csv: 0.001 MB\nvle.csv: 0.248 MB\nstudentRegistration.csv: 1.059 MB\nassessments.csv: 0.008 MB\n"
          ],
          "output_type": "stream"
        }
      ],
      "source": "print(\u0027File name: File size\u0027)\n# List files in the `DATA_FOLDER`\nfiles \u003d os.listdir(DATA_FOLDER)\n# Iterate over each file in the folder\nfor file_name in files:\n    # Get the file stats\n    file_stat \u003d os.stat(os.path.join(DATA_FOLDER, file_name))\n    # Convert the file size in bytes to MB\n    size_MB \u003d file_stat.st_size / 1024**2 \n    # Print the file name and size\n    print(\u0027{}: {:.3f} MB\u0027.format(file_name, size_MB))\n    "
    },
    {
      "cell_type": "markdown",
      "metadata": {
        "pycharm": {
          "metadata": false,
          "name": "#%% md\n"
        }
      },
      "source": "What is in the data that can help answer the research question?\n- Break down the exploration into small steps, sub questions. \n- `cources.csv` seems promising and not too large. \n\nInitial sub question is\n- How many courses are there in the data set?\n"
    },
    {
      "cell_type": "code",
      "execution_count": 9,
      "metadata": {
        "pycharm": {
          "is_executing": false
        }
      },
      "outputs": [],
      "source": "# Load \"raw\" data regarding courses. \n\n# Loading data in a separate cell can avoid computationally expensive file IO.\n# Declare the path to the data file with course info\ncourses_path \u003d os.path.join(DATA_FOLDER, \u0027courses.csv\u0027)\n# Use `pandas` `read_csv` to read the CSV data file in as a `pandas` `DataFrame`\ncourses \u003d pd.read_csv(courses_path)\n"
    },
    {
      "cell_type": "markdown",
      "metadata": {
        "pycharm": {
          "metadata": false,
          "name": "#%% md\n"
        }
      },
      "source": "When can we work with a subset of the the data and why would we?\n- Early in development to speed up parts not dependent\n on all data by both reducing computational time and analysis.\n \n**Note:** avoid drawing too strong conclusions on data subsets.\n"
    },
    {
      "cell_type": "code",
      "execution_count": 7,
      "metadata": {
        "pycharm": {
          "is_executing": false,
          "metadata": false,
          "name": "#%%\n"
        }
      },
      "outputs": [],
      "source": "# Define functions in separate cells for code separation and structure.\ndef count_lines(file_path):\n    \"\"\"\n    Count total number of lines in a file. \n    \n    Not optimized for speed. See e.g. https://stackoverflow.com/questions/845058/how-to-get-line-count-cheaply-in-python\n    :param file_path: Path to file\n    :type file_path: str\n    :return: Total number of lines in the file\n    :rtype int:\n    \"\"\"\n    with open(file_path, \u0027r\u0027) as file_descriptor:\n        _n_lines \u003d 0\n        for _ in file_descriptor:\n            _n_lines +\u003d 1\n            \n    return _n_lines\n"
    },
    {
      "cell_type": "markdown",
      "metadata": {
        "pycharm": {
          "metadata": false,
          "name": "#%% md\n"
        }
      },
      "source": "Get a data sample from the `courses.csv` data\n"
    },
    {
      "cell_type": "code",
      "execution_count": 11,
      "metadata": {
        "pycharm": {
          "is_executing": false,
          "metadata": false,
          "name": "#%%\n"
        }
      },
      "outputs": [
        {
          "name": "stdout",
          "text": [
            "Rows and columns in data sample: (3, 3)\n"
          ],
          "output_type": "stream"
        }
      ],
      "source": "# Ratio of lines to sample\nRATIO_OF_SAMPLES_FROM_DATA_FILE \u003d 0.2\n# Get number of lines in the file\nn_lines \u003d count_lines(courses_path)\n# Get number of lines to sample. Cast it to an integer \nn_samples_course \u003d int(n_lines * RATIO_OF_SAMPLES_FROM_DATA_FILE)\n# `pandas` `read_csv` API specifies number of lines(rows) to skip\nn_lines_to_skip \u003d n_lines - n_samples_course\n# Uniformly randomly sample which lines to skip. They need to be ordered\nskip_lines \u003d sorted(random.sample(range(1, n_lines), n_lines_to_skip))\n# Read file the sampled lines of the file\nsample_courses \u003d pd.read_csv(courses_path, skiprows\u003dskip_lines)\n# Print sampled data. Note the difference in size with the complete data frame \nprint(\"Rows and columns in the data sample: {}\".format(sample_courses.shape))\n# Assert that the sample has fewer (or equal) lines than the original\n# `assert` is a very convenient keyword to check TODO elaborate\nassert n_lines \u003e\u003d sample_courses.shape[0]"
    },
    {
      "cell_type": "markdown",
      "metadata": {
        "pycharm": {
          "metadata": false,
          "name": "#%% md\n"
        }
      },
      "source": [
        "What does the data look like"
      ]
    },
    {
      "cell_type": "code",
      "execution_count": 8,
      "metadata": {
        "pycharm": {
          "is_executing": false,
          "metadata": false,
          "name": "#%%\n"
        }
      },
      "outputs": [
        {
          "name": "stdout",
          "output_type": "stream",
          "text": [
            "Information about the data frame\n",
            "\u003cclass \u0027pandas.core.frame.DataFrame\u0027\u003e\n",
            "RangeIndex: 22 entries, 0 to 21\n",
            "Data columns (total 3 columns):\n",
            "code_module                   22 non-null object\n",
            "code_presentation             22 non-null object\n",
            "module_presentation_length    22 non-null int64\n",
            "dtypes: int64(1), object(2)\n",
            "memory usage: 608.0+ bytes\n",
            "None\n",
            "First row in dataframe\n",
            "  code_module code_presentation  module_presentation_length\n",
            "0         AAA             2013J                         268\n",
            "Columns: Index([\u0027code_module\u0027, \u0027code_presentation\u0027, \u0027module_presentation_length\u0027], dtype\u003d\u0027object\u0027)\n"
          ]
        }
      ],
      "source": "print(\"Information about the data frame\")\nprint(courses.info())\nprint(\"First row in dataframe\")\nprint(courses.head(1))\n# What are the names of the columns\nprint(\"Columns: {}\".format(courses.columns))\n"
    },
    {
      "cell_type": "code",
      "execution_count": 9,
      "metadata": {
        "pycharm": {
          "metadata": false,
          "name": "#%%\n"
        }
      },
      "outputs": [
        {
          "data": {
            "text/html": [
              "\u003cdiv\u003e\n",
              "\u003cstyle scoped\u003e\n",
              "    .dataframe tbody tr th:only-of-type {\n",
              "        vertical-align: middle;\n",
              "    }\n",
              "\n",
              "    .dataframe tbody tr th {\n",
              "        vertical-align: top;\n",
              "    }\n",
              "\n",
              "    .dataframe thead th {\n",
              "        text-align: right;\n",
              "    }\n",
              "\u003c/style\u003e\n",
              "\u003ctable border\u003d\"1\" class\u003d\"dataframe\"\u003e\n",
              "  \u003cthead\u003e\n",
              "    \u003ctr style\u003d\"text-align: right;\"\u003e\n",
              "      \u003cth\u003e\u003c/th\u003e\n",
              "      \u003cth\u003ecode_module\u003c/th\u003e\n",
              "      \u003cth\u003ecode_presentation\u003c/th\u003e\n",
              "      \u003cth\u003emodule_presentation_length\u003c/th\u003e\n",
              "    \u003c/tr\u003e\n",
              "  \u003c/thead\u003e\n",
              "  \u003ctbody\u003e\n",
              "    \u003ctr\u003e\n",
              "      \u003cth\u003e0\u003c/th\u003e\n",
              "      \u003ctd\u003eAAA\u003c/td\u003e\n",
              "      \u003ctd\u003e2013J\u003c/td\u003e\n",
              "      \u003ctd\u003e268\u003c/td\u003e\n",
              "    \u003c/tr\u003e\n",
              "  \u003c/tbody\u003e\n",
              "\u003c/table\u003e\n",
              "\u003c/div\u003e"
            ],
            "text/plain": [
              "  code_module code_presentation  module_presentation_length\n",
              "0         AAA             2013J                         268"
            ]
          },
          "metadata": {},
          "output_type": "display_data"
        }
      ],
      "source": "# There are often prettier ways to display things.\nimport IPython.display as display\n# Use the `IPython` display function\ndisplay.display(courses.head(1))\n"
    },
    {
      "cell_type": "markdown",
      "metadata": {
        "pycharm": {
          "metadata": false,
          "name": "#%% md\n"
        }
      },
      "source": "### Explore the data \n\nThe data is now loaded. So we can see if we can answer some questions.\n- How many unique modules (`code_module`) are there?\n - **Note:** It can be useful to formulate questions to guide the exploration to avoid getting lost.\n- How many unique module presentations (`code_presentation`) are there? "
    },
    {
      "cell_type": "code",
      "execution_count": 12,
      "metadata": {
        "pycharm": {
          "is_executing": false,
          "metadata": false,
          "name": "#%%\n"
        }
      },
      "outputs": [
        {
          "name": "stdout",
          "text": [
            "Categories for code_module: [\u0027AAA\u0027 \u0027BBB\u0027 \u0027CCC\u0027 \u0027DDD\u0027 \u0027EEE\u0027 \u0027FFF\u0027 \u0027GGG\u0027]; n categories: 7\nCategories for code_presentation: [\u00272013J\u0027 \u00272014J\u0027 \u00272013B\u0027 \u00272014B\u0027]; n categories: 4\n"
          ],
          "output_type": "stream"
        }
      ],
      "source": "# Columns of interest\ncols \u003d [\u0027code_module\u0027, \u0027code_presentation\u0027]\n# Iterate over columns in the data frame\nfor col in cols:\n    # Get unique column values\n    unique_values \u003d courses[col].unique()\n    # Get number of unique values\n    n_unique_values \u003d len(unique_values)\n    print(\u0027Categories for {}: {}; n categories: {}\u0027.format(col, unique_values, n_unique_values))\n    "
    },
    {
      "cell_type": "markdown",
      "metadata": {
        "pycharm": {
          "is_executing": false,
          "metadata": false,
          "name": "#%% md\n"
        }
      },
      "source": [
        "What is the presentation length for each code_module?\n",
        "- What could the difference depend on?\n"
      ]
    },
    {
      "cell_type": "code",
      "execution_count": 16,
      "metadata": {
        "pycharm": {
          "is_executing": false,
          "metadata": false,
          "name": "#%%\n"
        }
      },
      "outputs": [
        {
          "data": {
            "text/plain": "Text(0, 0.5, \u0027Module Presentation Length\u0027)"
          },
          "metadata": {},
          "output_type": "execute_result",
          "execution_count": 16
        },
        {
          "data": {
            "text/plain": "\u003cFigure size 432x288 with 1 Axes\u003e",
            "image/png": "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\u003d\n"
          },
          "metadata": {
            "needs_background": "light"
          },
          "output_type": "display_data"
        }
      ],
      "source": "# Column name for x-axis values\nxs \u003d \u0027code_module\u0027\n# Column name for y-axis values\nys \u003d \u0027module_presentation_length\u0027\n# Column name for the colors in the plot\ngroup_name \u003d \u0027code_presentation\u0027\n\n# Plot the data points\nax \u003d sns.stripplot(x\u003dxs, y\u003dys, hue\u003dgroup_name, data\u003dcourses)\n# Set the legend\nplt.legend(bbox_to_anchor\u003d(1.05, 1), loc\u003d2, borderaxespad\u003d0.)\n# We call `matplotlib` instead of using the `seaborn` api\n# Set plot title\nax.set_title(\u0027Presentation Length of Modules\u0027)\n# Lazy programmer showoff. Create an anonymous function (lambda) that splits the function argument on `_` to a list and\n# captalizes each element. Then the elements of the list are joined as a string separated by ` `\npretty_label \u003d lambda x: \u0027 \u0027.join([_.capitalize() for _ in x.split(\u0027_\u0027)])\n# Set x label\nax.set_xlabel(pretty_label(xs))\n# Set y label\nax.set_ylabel(pretty_label(ys))\n"
    },
    {
      "cell_type": "markdown",
      "metadata": {
        "pycharm": {
          "metadata": false,
          "name": "#%% md\n"
        }
      },
      "source": [
        "Tabular description of the groups based on descriptive statistics"
      ]
    },
    {
      "cell_type": "code",
      "execution_count": 15,
      "metadata": {
        "pycharm": {
          "is_executing": false,
          "metadata": false,
          "name": "#%%\n"
        }
      },
      "outputs": [
        {
          "name": "stdout",
          "text": [
            "Descriptive stats for module_presentation_length grouped by code_module: AAA\ncount      2.000000\nmean     268.500000\nstd        0.707107\nmin      268.000000\n25%      268.250000\n50%      268.500000\n75%      268.750000\nmax      269.000000\nName: module_presentation_length, dtype: float64\nDescriptive stats for module_presentation_length grouped by code_module: BBB\ncount      4.000000\nmean     251.000000\nstd       16.532796\nmin      234.000000\n25%      238.500000\n50%      251.000000\n75%      263.500000\nmax      268.000000\nName: module_presentation_length, dtype: float64\nDescriptive stats for module_presentation_length grouped by code_module: CCC\ncount      2.00000\nmean     255.00000\nstd       19.79899\nmin      241.00000\n25%      248.00000\n50%      255.00000\n75%      262.00000\nmax      269.00000\nName: module_presentation_length, dtype: float64\nDescriptive stats for module_presentation_length grouped by code_module: DDD\ncount      4.000000\nmean     251.000000\nstd       12.138094\nmin      240.000000\n25%      240.750000\n50%      251.000000\n75%      261.250000\nmax      262.000000\nName: module_presentation_length, dtype: float64\nDescriptive stats for module_presentation_length grouped by code_module: EEE\ncount      3.000000\nmean     259.333333\nstd       15.885003\nmin      241.000000\n25%      254.500000\n50%      268.000000\n75%      268.500000\nmax      269.000000\nName: module_presentation_length, dtype: float64\nDescriptive stats for module_presentation_length grouped by code_module: FFF\ncount      4.000000\nmean     254.500000\nstd       16.176114\nmin      240.000000\n25%      240.750000\n50%      254.500000\n75%      268.250000\nmax      269.000000\nName: module_presentation_length, dtype: float64\nDescriptive stats for module_presentation_length grouped by code_module: GGG\ncount      3.000000\nmean     257.000000\nstd       14.422205\nmin      241.000000\n25%      251.000000\n50%      261.000000\n75%      265.000000\nmax      269.000000\nName: module_presentation_length, dtype: float64\n"
          ],
          "output_type": "stream"
        }
      ],
      "source": "# Get the groups\ncode_modules \u003d courses.groupby(by\u003dxs)\n# Iterate over the groups\nfor name, group in code_modules:\n    print(\u0027Descriptive stats for {} grouped by {}: {}\u0027.format(ys, xs, name))\n    print(group[ys].describe())\n    "
    },
    {
      "cell_type": "markdown",
      "source": "#### What is the descriptive statistics and visualization of the other tables in the data?\n",
      "metadata": {
        "pycharm": {
          "metadata": false
        }
      }
    },
    {
      "cell_type": "markdown",
      "metadata": {
        "pycharm": {
          "metadata": false
        }
      },
      "source": "### Explore the concept of learning as measured by final grade\n- What is the final grade?\n - In this data it is `final_result` in the `studentInfo` table"
    },
    {
      "cell_type": "code",
      "execution_count": 18,
      "metadata": {
        "pycharm": {
          "metadata": false,
          "name": "#%%\n",
          "is_executing": false
        }
      },
      "outputs": [
        {
          "name": "stdout",
          "text": [
            "\u003cclass \u0027pandas.core.frame.DataFrame\u0027\u003e\nRangeIndex: 32593 entries, 0 to 32592\nData columns (total 12 columns):\ncode_module             32593 non-null object\ncode_presentation       32593 non-null object\nid_student              32593 non-null int64\ngender                  32593 non-null object\nregion                  32593 non-null object\nhighest_education       32593 non-null object\nimd_band                31482 non-null object\nage_band                32593 non-null object\nnum_of_prev_attempts    32593 non-null int64\nstudied_credits         32593 non-null int64\ndisability              32593 non-null object\nfinal_result            32593 non-null object\ndtypes: int64(3), object(9)\nmemory usage: 3.0+ MB\nNone\n"
          ],
          "output_type": "stream"
        }
      ],
      "source": [
        "# Load data\n",
        "student_info_path \u003d os.path.join(DATA_FOLDER, \u0027studentInfo.csv\u0027)\n",
        "student_info \u003d pd.read_csv(student_info_path)\n",
        "print(student_info.info())\n"
      ]
    },
    {
      "cell_type": "markdown",
      "metadata": {
        "pycharm": {
          "metadata": false
        }
      },
      "source": "**Note:** With unfamiliar APIs and dynamically typed languages such as `python` it can be difficult to know which \nvariable operations are syntactically correct."
    },
    {
      "cell_type": "code",
      "execution_count": 31,
      "metadata": {
        "pycharm": {
          "metadata": false,
          "name": "#%%\n",
          "is_executing": false
        }
      },
      "outputs": [
        {
          "name": "stdout",
          "text": [
            "Final result values (categories): [\u0027Pass\u0027 \u0027Withdrawn\u0027 \u0027Fail\u0027 \u0027Distinction\u0027]\nPass           12361\nWithdrawn      10156\nFail            7052\nDistinction     3024\nName: final_result, dtype: int64\n\u003cclass \u0027pandas.core.series.Series\u0027\u003e Index([\u0027Pass\u0027, \u0027Withdrawn\u0027, \u0027Fail\u0027, \u0027Distinction\u0027], dtype\u003d\u0027object\u0027)\nPass           0.379253\nWithdrawn      0.311601\nFail           0.216365\nDistinction    0.092781\nName: final_result, dtype: float64\n"
          ],
          "output_type": "stream"
        },
        {
          "data": {
            "text/plain": "Text(0, 0.5, \u0027Ratio\u0027)"
          },
          "metadata": {},
          "output_type": "execute_result",
          "execution_count": 31
        },
        {
          "data": {
            "text/plain": "\u003cFigure size 432x288 with 1 Axes\u003e",
            "image/png": "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\u003d\u003d\n"
          },
          "metadata": {
            "needs_background": "light"
          },
          "output_type": "display_data"
        }
      ],
      "source": "# Get final results column values\n\n# Get the unique values\nprint(\u0027Final result values (categories): {}\u0027.format(student_info[\u0027final_result\u0027].unique()))\n# Get the number of values for each category\nfinal_results \u003d student_info[\u0027final_result\u0027].value_counts()\nprint(final_results.head())\n# These values are now a `pandas.Series` indexed by the category\nprint(type(final_results), final_results.index)\n# Normalize the value counts\nfinal_results \u003d final_results.div(final_results.sum(), axis\u003d0)\n# Plot the final results categories\nax \u003d final_results.plot(kind\u003d\u0027bar\u0027)\nax.set_title(\u0027Final result ratios for all students\u0027)\nax.set_xlabel(\u0027Final Result\u0027)\nax.set_ylabel(\u0027Ratio\u0027)\n"
    },
    {
      "cell_type": "markdown",
      "metadata": {
        "pycharm": {
          "metadata": false
        }
      },
      "source": "What is the completion rate?"
    },
    {
      "cell_type": "code",
      "execution_count": 27,
      "metadata": {
        "pycharm": {
          "metadata": false,
          "name": "#%%\n",
          "is_executing": false
        }
      },
      "outputs": [
        {
          "name": "stdout",
          "text": [
            "Final result:\nnot completed: 0.528\ncompleted: 0.472\n"
          ],
          "output_type": "stream"
        }
      ],
      "source": "# Sum the values for non-completion\n# Find the rows that has Fail or Withdrawn and sum the values\ndef get_completion_rate(df):\n    not_completed \u003d df.loc[[\u0027Fail\u0027, \u0027Withdrawn\u0027]].sum()\n    completed \u003d 1.0 - not_completed\n    print(\"Final result:\")\n    print(\"not completed: {:.3f}\".format(not_completed))\n    print(\"completed: {:.3f}\".format(completed))\n\nget_completion_rate(final_results)"
    },
    {
      "cell_type": "markdown",
      "metadata": {
        "pycharm": {
          "metadata": false
        }
      },
      "source": "What is the final grade for module `AAA`?\n- Now we need to filter the data based on the module we are interested in\n\n**Note:** The code seems repetitive"
    },
    {
      "cell_type": "code",
      "execution_count": 33,
      "metadata": {
        "pycharm": {
          "is_executing": false,
          "metadata": false,
          "name": "#%%\n"
        }
      },
      "outputs": [
        {
          "name": "stdout",
          "text": [
            "Pass           487\nWithdrawn      126\nFail            91\nDistinction     44\nName: final_result, dtype: int64\n"
          ],
          "output_type": "stream"
        },
        {
          "data": {
            "text/plain": "Text(0, 0.5, \u0027Ratio\u0027)"
          },
          "metadata": {},
          "output_type": "execute_result",
          "execution_count": 33
        },
        {
          "data": {
            "text/plain": "\u003cFigure size 432x288 with 1 Axes\u003e",
            "image/png": "iVBORw0KGgoAAAANSUhEUgAAAagAAAF0CAYAAAB2Tq2UAAAABHNCSVQICAgIfAhkiAAAAAlwSFlzAAALEgAACxIB0t1+/AAAADl0RVh0U29mdHdhcmUAbWF0cGxvdGxpYiB2ZXJzaW9uIDMuMC4xLCBodHRwOi8vbWF0cGxvdGxpYi5vcmcvDW2N/gAAIABJREFUeJzt3XmcXFWZ//HPl4AhrGEZZYksAYWAI4vIImEXRJQBAQVEtgT4jQsgKMiiwgCCAR22gUEEWURGZRMUEFACkiCbyi4KYQ2ENQRZkpDl+f1xTtFF5VZ3dae77+2u7/v1qld1nbs9dbuqnnvOPedeRQRmZmZVs0DZAZiZmRVxgjIzs0pygjIzs0pygjIzs0pygjIzs0pygjIzs0pqqwQlaUFJIemCftreAXl7o/tje31F0ur5fXy37FhaIekySbNL3P76ksZLmlbV/SZpgqQnGspK3W89MRBjttYNigQlacv8Q9DssXHZMQ42kpaWdLykzUva/hhJh5Sx7c5IWgi4ClgVOBbYG/hNqUGVRNLW+TOyRNmx9AZJI/P7+XjZsfQmSVfl38mbWpx/xzz/HEkrtjD/gpJezMsc3Z3YFuzOzAPA/wE3FJQ/ARARsyUNA3zENf+WBo4j7cs/lbD9McBywFkF0/YHxvZvOO/5CLAKcGhEnFNSDFWxNSlJXwD8q+RYesNI0mf+CeDBkmPpFZL+DdgRmAR8WtKHI+K5LhYbCzwLrADsB/ygi/k/D3wob2N/4JRW4xsUNag6f42Iywoer9ZmiIgZETEgEpSkYZKGlB1HX5I0RNIivbnOiJgVETN7c53dsFx+ntqbK1WyWG+u0wzYBxgCfAmYS0o4TUn6EPA54DzgRmB/SepiG2OBfwJHAh+RtFnL0UXEgH8AWwIBfLuL+RbM811QVAaMBu4A3gFeBc4HFm1Yxyjgf4FHgTfzvPcBYwq2d0Be9+gW3sNlpNrIB4GLgZdJH5gRdfPsCUys2+5dwC4F69qRVKt5FZgOPENqdlq9bp4JwBMFy66eY/5uszLg0/l142Oe9TXZH1uRjkSfzO/5K3n69sCvgaeAGcDrwE3AZg3rmdxk+6Pr92XB9tcFriUljxnAI8C3gAUa5lsZuCjvt5n5fzER2LuL9zehSVwj8vTFgB/m9z0TeDH/rz/csJ7a/t0bOBj4O/Bu/f+kyfa/DPyWdHQ7E3gFuBr4WJNYn2goK9xvTbY1Gvg98FLe1vPA9cCGdesq2hff7WxbFHxHc/kw4MfAFNJn+u68n5qtZw3gF3kfv5s/U6cCizT53i1F+r6/kj8bE4BPFnx2Gx9/yNMXyJ+lh0jfz38Bj5F+V4a0sD8XBI7O/+sZwGuk7+zazb6fwE7AX/L8L+TP1oKt/P/q1vcocHP++7r82VQn8x8JzAFGALvkWLbsZP4V8v49BvgA6Tfp4lbjG2xNfItIWrahbGZEvNnCsp8AvgBcSPrQbg0cSNq5X6ubbxtgU9I/8ynSj87uwIWSlomI0+YjfgF/IP0An5DX/Q6ApB8C3yE1YX6PlLx2Ba6S9NWIOC/Ptw3pnMeDwMnAG8CKpC/zSHJz53x6GPg28CPgStKPPqQvZitOJx21nU/6Ij+ey8cAw0k/2s+TvgQHALdK2iIi7szzHUz6Mi6Z46j5R7MNStoIGE/6MT2H9MO6U34PHwf2zfN9ALiFVBM6N8c2PM8zGvh5J+/rBFLyPYp0EFOLd2o+N3ULsDEpCf8I+CjwVWA7SRtExAsN6/sW6YfzQtIP7TOdbBvgG/l9/SQ/rw4cBNwpab2ImNTF8i2RtFZ+L88DZ+RtLQdsBvw7cA9p3y1G2seHkA42AO7v4WZ/TWoqujZve3XS5/ypgvg2JH2PppL+D1OAdYBvAptI2ire34oi4GbSj/zxwL8BhwPXSxoZEW+RPjs/ZN7/7ZT8fBzw/RzfuaQf7lXz+1+I9KPemV+Svs835eWXB74ObCtpdEQ0NinuSPoe/ISUBL9A+n2YSkrEXZK0CemAu9ZEdzEpKW4F3NpksTHArRExWdLLpEQ6Brityfz7kvbvzyPiXUmXA2MkHdzS73J3sm1VH3TUoIoev+zs6KyubA6wQcN6byL9oA2rK1u0YPtDSEdcU6k7WqL7Naig4OgC2DBPO6Fg2u+AabW4SOdkAlimi+31uAbVrKyF91jbH4/W79Mu9u3yeb9e10r8dftydkPZ3cAs6o5I8xfnqhzTFrls/fz68B5+Fmu1n680lH81l5/cUL5TLr+oYB2vAst2Y9tF++9jpBrEWV3tv6L91mQ7h+f41u9ivpOoq0G2sq0m39EdGsty+W65fHZdmUgHUI8CizXM/8XG/03d965x/+yZy8d29b/N0x4EHuzhZ+azeb2/oK72kj+Lc4DxdWW1791bwEp15QuQal/PdWO7PyUdIC6SX9dqOL9oMv+mBfvvbNJB9BJNlvknuZaZX38ir+PAVmIcbOegzge2bXic1OKyEyLivoayW0n/tJVrBRHxdu1vSQtLWoZ0lHtTfv5oj6NPflRQthfpn3qppGXrH6Sa3JLARnneN/LzrhU+f3VuRExvLGzYt4vlfTuLdES+UeP8rZK0AinJXxMRj9RtL0i1TEhHoNCx/7bOJ5B7yxdItfFx9YURcS3pB3Xngrb8i6Pu/GlXavsvn69aIn8+XiTVmnu8/wrU9tHOkhbuxfU2s3N+fl/rRERcSTrxXm9dYG3Sj/3CDd+V20nNYdsVbOP0hte1GsRHWozxDeDDkj7V4vz1ap+9H+TPJAAR8VdSi8kWkpZuWOaqiHi2bt65pFrMiNwRrFOSFiW1/FwREe/kdbxL6mi2i6ThBYuNJbWSXF1XdjGp+XXPgm1sTtp/l9TF+RdSM+iYrmKEwddJ4vGI+EPD4+EWl32yoOy1/LxMrUDS4pL+W9JzpLbwV0nt1ifkWZbqafDZ4wVlo0hHho/nbdU/fpLn+VB+Pgt4IJdPlXS9pG8UNH2W6Z9FhXm81a8kTSN9EWr79jPM335dNT8/UjDt0fw8EiBSM9g40lH7i5LukzRO0gbzsf1aDJMj4o2CaY+QmhEb32PhfmpG0ick3UDad2/Q8RkZVbDu+fELUpPX90ifsT9KOlLSh3txG/VGkpJ7UfP03xtej8rPJzHvd+UlYGE6vis1c5m3+XSe734XjiIdTE2UNDmPz9ojN+12ZVXS+ytqon6E9N1fpaG8s9+rxmRW5EvA4sDt+Xu3uqTVSeeuFyadz3yPpMXzMuOBFermf4PUzFrUa3Ysqfb+QMM2bgY2zk3FnRps56DmR2dtxPVHtr8incw/j9RM8lpedkdSW/v8JP05Udz7THkbO5C+TEUeBoiIVyR9AticVIPcHDgTOEHS9hFxT54/ilfTL5+JdxoL8liZO0hfjtNJ7+dN0vv9Lun8T7+IiKMk/ZTUW2kz0nmcIyWdEhHH9FccFOynZiStQvpxmUo6WPon8Dbp/3w26TxIr4iIGaQa5kakg4fNSQnheEl7RMR1raymSfn8fv5q39VTSeeqirzW8DpyDaSz9XUqIiZKWo20P7YincPeC3gkn0Oa1sp6uqHV36tmagnlkibTx5DOhdXsDiwK/Ed+NFpV0sdqFYL8fd6N1AL1QCfb+HaTaYATVLfkJqfPAj+LiK81TNu+Dzf9OKn9+6mIKKphvU9EzCEd6YzPsa0H3Esak7JTnm0qqSmk0cgWY2r2A9NT25JOtO8TEe/riJA7iMzP9mtHm0Xvd1TDPGnlqSZ1FnBWbjK5BThK0o8ioiddyJ8k/agvERGNY4LWInUieH3exVq2K7AIsH1E3FErzM2Gy9LRLNdrIuJu0rk9JK1M6gBxIqnZGTr/H00FhhTsj6LP35OkzkmrM28tY1TD69r3Y3ZE/KHLN9E9nX7mIp30vzI/UBpIfiZp7E9jE2K9J0nf7zXoqNHXrJW3O09nkJ6StAbpfNKlpF6fjbYDDpT08ejonDEGeI50/rHR0LyuscBhuWwP0ufxOxTX9g4D9pZ0dETMahbrYGvi62u1o5b3HaEojaZuqU21h2o/2KcUnVfKYxNqfxc15T1K6uxRX/X/J7CUpPXrll2A1NOpFW/l51aaE1rRbN9+lnRitWj7LTVbRcQU0nmsnSW994OWf7xrI9uvyWVLSlqwYfnppC7DanWbBX5DOiA8sr5Q0o6knm/X1p9/6IHC/Qf8JylB9Zomn7FnSU2y9Z+Hzj4jtebLTzeUf6tg3lov0SMa4tgNWK1h3vtIzX5fy7VKGpZZSFJP/4dN30+TffLXZvM3qF1p5H1XWZC0DqkWf3tEzM/BS6Pab9WPI+LKxgcd50nH5jhGAZsA88ybH78g9Wr8Su4FW1v21U628TPSkJrPdxaoa1DdEBHTJP0R2FfSTNIYhJVJPwKTgPk9T9Fsu3+WdCKpzf+vkq4kdW9dPm9zO9KJSoCLJH2QdMT/DOkoZs/8fGndas8jJaPrJJ1Jaj//IqlHYisxvSTpaWCv/Pwy8GZEXN/Dt/kn0nmCM3JTyfOkXkx7kZr7Go+U7wK2l3R2/nsOqbdQs04Fh5BqlBMknUs6H/EfpJrbpRFxe55vW+AcSVfR0Uy2AekoeGL0vKv2haRBkcdKGklqzvwoaQjDFFLtdn5cT+rw8QtJ55BqTKNJTU69dvSdHS9pK1IP0qdIB7o7kWo4J9fNd1d+Pk2pe/FMUk+3R0nnsU4iDc9Ym1R73IGCH/OIuF7SjcDYnAhuJp18P5CGz0ZEzJW0N6mb+UOSfkY6QFs0x7crKQle1oP3/TDp83CwpHdJvWdfjIjbgMcl3UE6EHqBNP7noPyef93ZSiPiRklXk37glyF1jKh1M38HOLQHsRbKB1/7kHpwFl4NIyImSXqA9N0+go7mwKs6WfVVpFrif0h6jNQp6YLcmlPkWtJ58rHkg8NCrXZJrPKDXhqoWzD/PN3ESWMkfkbHgMEH804umrfbA3W7mOc/SInnddIH/1nSh/nAunl2I1XbJ9MxyHQ88IWC9X2e1D78LikhnExqBmupSzlpTM+ddJzraHWgbuH+II1VuYn0xX8zx71p0b4hjbG5iI4Bze+tt9m+BNYjNT/V9t+jpDbw+qEBq+Uvzt9zDG/l+Y6nSVfahm101hV5MdLR6VN5n79EOgewUqvraOF7UBvI/TopgaxFcZfy+elmvg3pR/eZ/B2YSkpGY2gY5EmqFTxFOgBq/Fxtkj8/M0gHJ+eROiUUdSlfhPQD+CKtDdRdhdSr95m8r18l1a5+wPsHv3d3wPDngb/lmIOOgbrHkA46Xsnbe450vnrdFv93C+V99Vj+bE4l9ZZrOlC3YB1Nu/XXzVMb1jCui3i+l+fbPX9Op9AwoL1h/pXy/Dfk/1MAn+1iG38kdQ5Zodk8yjOamZlVis9BmZlZJTlBmZlZJTlBmZlZJbV9Lz5JQ4FPkk4CdnVBRzMzS4aQehveG310e5u2T1Ck5HRHl3OZmVmRzUi9QnudE1S+XP4dd9zBiBEjyo7FzGxAmDx5Mpttthl03HKk1zlB5Wa9ESNGsMoqq5QcipnZgNNnp0bcScLMzCrJCcrMzCrJCcrMzCrJCcrMzCrJCcrMzCrJCcrMzCrJCcrMzCrJCcrMzCrJA3X7yCpH9fTGsv3r6R9+ruwQzMwKuQZlZmaV5ARlZmaV5ARlZmaV5ARlZmaV5ARlZmaV5ARlZmaV5ARlZmaV5ARlZmaV5ARlZmaV5ARlZmaVVGqCkjRU0jhJL0iaLukuSdt0Y/kvS7pH0tuSpkq6XdKGfRmzmZn1j7JrUBcDhwGXAYcCc4EbJW3S1YKSTgIuAR7Oy/4XMAlYrq+CNTOz/lPaxWJzTWcP4LCIOCOXXUpKOOOAzTtZ9lPAMcCuEXFNP4RrZmb9rMwa1G7ALOCCWkFEzAAuBEZLWr6TZQ8F7o2IayQtIGmxvg3VzMz6W5kJaj3gsYh4q6H8HkDAup0suw1wr6STgTeANyU9LWmvzjYoabikVeofwIgevwMzM+szZd4Panng+YLyKfl5haKFJC0FLENqHpwDfAeYCnwduEzSO500+30TOG5+gjYzs/5RZoIaBswsKJ9RN71IrTlvGWDjiLgbQNI1wBPA94FmCeoMUseMeiOAO1oL2czM+kuZCWo6MLSgfOG66c2WA3iqlpwAImKmpCuBQyUtVtB0SERMA6bVl0nqduBmZtb3yjwHNYXUzNeoVvZCk+WmkmpeLxVMe4l0/mrJ+Y7OzMxKVWaCuh9Ys6AH3kb5+YGihSJibl52xYLJI0jnpab2VpBmZlaOMhPUlcBCwAG1AklDgf2BiRHxQi5bSdKaDcteAXxY0rZ1yy4BfAm4MyKaNQ+amdkAUdo5qIi4W9IVwKl5zNMkYF9gZWC/ulkvBbYgNd3V/C8psV0l6XTgdWAsMBw4uu+jNzOzvlZmJwmAfYAT8/NSwIPADhExsbOFIuIdSVsBpwEHk3r8/QX4dFfLmpnZwFBqgspXjjgiP5rNs2WT8heBvfsmMjMzK1vZF4s1MzMr5ARlZmaV5ARlZmaV5ARlZmaV5ARlZmaV5ARlZmaV5ARlZmaV5ARlZmaV5ARlZmaV5ARlZmaV5ARlZmaV5ARlZmaV5ARlZmaV5ARlZmaV5ARlZmaV5ARlZmaV5ARlZmaV5ARlZmaV5ARlZmaV5ARlZmaV5ARlZmaV5ARlZmaV5ARlZmaV5ARlZmaV5ARlZmaV5ARlZmaV5ARlZmaV5ARlZmaV5ARlZmaV5ARlZmaV5ARlZmaV5ARlZmaV5ARlZmaV5ARlZmaV5ARlZmaV5ARlZmaV5ARlZmaV5ARlZmaV5ARlZmaV5ARlZmaV5ARlZmaV5ARlZmaV5ARlZmaV5ARlZmaV5ARlZmaV5ARlZmaV5ARlZmaV5ARlZmaV5ARlZmaVVGqCkjRU0jhJL0iaLukuSdv0YD03SApJZ/RFnGZm1v/KrkFdDBwGXAYcCswFbpS0SasrkPQ5YPM+ic7MzEpTWoKStCGwB3BkRBwZEecDWwPPAuNaXMcHgNOBU/ssUDMzK0WZNajdgFnABbWCiJgBXAiMlrR8C+s4FBgG/KhPIjQzs9KUmaDWAx6LiLcayu8BBKzb2cKSlgO+BxwTEe/0TYhmZlaWBXu6oKStgC8AI3PRk8DVEXFbi6tYHni+oHxKfl6hi+VPAf5BOn/VEknDgeENxSNaXd7MzPpPtxOUpAWAS4Avk2o6c/OkBYCvS/oFsG9ERBerGgbMLCifUTe9WQwbAvsAW7SwnXrfBI7rxvxmZlaSnjTxfQvYC7iS1Aw3LD/WBX6dpx3ewnqmA0MLyheumz4PSQLOBK6KiAndihzOAFZteGzWzXWYmVk/6EkT337AzRGxe0P5g8CekpYCxgA/7mI9U0jNfI1qZS80We4LwIbAMZJWaZi2RC57KSLmSXARMQ2YVl+W8p2ZmVVNT2pQI4HfdjL9t3Scl+rM/cCakhZrKN8oPz/QZLmVSHHfCjxV9wDYP/+9RQvbNzOzCutJDept4EOdTF8uz9OVK4FvAweQmt6QNJSUZCZGxAu5bCVgkYh4LC/3W+DpgvVdA/yO1E39ry1s38zMKqwnCeoO4BuSfhURj9RPkLQW8HXgtq5WEhF3S7oCODWPeZoE7AusTGpGrLmUVCNSXm5Snvd9clPdpIj4TfffkpmZVU1PEtT3gbuAv0m6Fng0l68N7Ai8S+s95fYBTszPS5HOY+0QERN7EJeZmQ0i3U5QEfGQpC1IPel2zY+aO4FDI+KhFtc1AzgiP5rNs2WL63JvBzOzQaRHA3Uj4j5gU0n/RuqqDfBURLzSa5GZmVlb6/GVJAByQnJSMjOzXlf27TbMzMwKdVmDkjSXdDmjRSLi3fy6q8sLRUTMV+3MzMzaWytJ5FJSQprT8NrMzKzPdJmgImK/zl6bmZn1hW6fg5K0ee6912z6spJ8C3YzM5svPekkMR7YtpPp2+R5zMzMeqwnCaqrAbFD6LhHlJmZWY/0tJt5Z50kPgW82sP1mpmZAS0O1JV0KHBoXdEZkn5QMOtSwBLAz3ohNjMza2OtjlWaBjyT/14FeA14qWGeAB4mXUj29N4IzszM2ldLCSoiLgEuAZD0FHBURFzXl4GZmVl768nVzFftei4zM7P542vxmZlZJfUoQUnaVNLvJL0iabakOQ2P2b0dqJmZtZceXUmCNBB3I+DuvI7xwL2kMVIPAz/vxRjNzKwN9aQGdSwwBVgL2C+XnRwRGwPbk25geEGvRGdmZm2rJwlqQ+CCfLPC2hUjFgCIiJtJtacTeyc8MzNrVz1JUEOB5/PfM/Pz4nXT7wc+MT9BmZmZ9SRBTQFGAETE26RBvB+rmz4CcCcJMzObLz256+29wKZ1r28GDpP0DCnhfYPUecLMzKzHelKDuhB4VdKw/PoYYDpwMekafDOBI3slOjMza1s9uZLELcAtda+flPRR0n2g5gATIuKN3gvRzMzaUa9cSSIi3o6I6yLieuBjkv7YG+s1M7P21a0alKRlgNWAqRHxRMO0jYETSDUp37DQzMzmS0s1KElDJJ1HusXGn4F/SLpT0gclLSHpcmAisBVwOfDvfRaxmZm1hVZrUAcDBwGTSfd7Wh3YGDiH1K18Q/IA3YiY1AdxmplZm2k1Qe0NPARsEhHvAEg6B/gq6eaFoyPiz30TopmZtaNWO0l8FLi0lpyy/83P45yczMyst7WaoBYFXmwoq71+qPfCMTMzS7rTzTyavJ7VS7GYmZm9pzvdzHeQtFzd60VISeqLktZtmDci4vT5js7MzNpWdxLUl/Oj0f8rKAvACcrMzHqs1QS1VZ9GYWZm1qClBBURt/d1IGZmZvV65Vp8ZmZmvc0JyszMKskJyszMKskJyszMKskJyszMKskJyszMKskJyszMKskJyszMKskJyszMKskJyszMKskJyszMKskJyszMKskJyszMKskJyszMKqnUBCVpqKRxkl6QNF3SXZK2aWG5XST9StJTkt6R9Jik0yQt2R9xm5lZ3yu7BnUxcBhwGXAoMBe4UdImXSx3PjAK+DlwCHBTfp4oaeE+i9bMzPpNd2753qskbQjsARwWEWfkskuBh4FxwOadLL5bRNzWsL6/AJfkdV7cByGbmVk/KrMGtRswC7igVhARM4ALgdGSlm+2YGNyyq7Jz6N6MUYzMytJaTUoYD3gsYh4q6H8HkDAusCUbqxvufz8arMZJA0HhjcUj+jGNszMrJ+UmaCWB54vKK8lpRW6ub7vAHOAqzuZ55vAcd1cr5mZlaDMBDUMmFlQPqNuekskfRkYC5wSEZM6mfUM5j0/NQK4o9VtmZlZ/ygzQU0HhhaUL1w3vUuSNiOdt7oe+F5n80bENGBaw/KtbMbMzPpZmZ0kppCa+RrVyl7oagWS1gGuAx4Edo+IOb0XnpmZlanMBHU/sKakxRrKN8rPD3S2sKTVgN8DLwOfi4i3ez9EMzMrS5kJ6kpgIeCAWoGkocD+wMSIeCGXrSRpzfoFJS0H3Ewa2PuZiGjac8/MzAam0s5BRcTdkq4ATs1jniYB+wIrA/vVzXopsAWp63nN74GRwKmkMVOj66ZNiog/92XsZmbW98rsJAGwD3Bifl6KdC5ph4iY2MVy6+TnIwumXQI4QZmZDXClJqh85Ygj8qPZPFsWlLnrnZnZIFf2xWLNzMwKld3EZ9aa4wfAnVSOf6PsCMwGFdegzMyskpygzMyskpygzMyskpygzMyskpygzMyskpygzMyskpygzMyskpygzMyskpygzMyskpygzMyskpygzMyskpygzMyskpygzMyskpygzMyskny7DbM28++X/HvZIbTkoX0fKjsEK5lrUGZmVklOUGZmVklOUGZmVklOUGZmVklOUGZmVklOUGZmVklOUGZmVklOUGZmVklOUGZmVklOUGZmVklOUGZmVklOUGZmVklOUGZmVklOUGZmVklOUGZmVklOUGZmVklOUGZmVklOUGZmVklOUGZmVkkLlh2AmdlA9vc1R5UdQktGPfb3skPoNtegzMyskpygzMyskpygzMyskpygzMyskpygzMyskpygzMyskpygzMyskpygzMyskpygzMyskpygzMyskpygzMyskpygzMyskpygzMyskkpNUJKGShon6QVJ0yXdJWmbFpddUdKvJU2T9C9Jv5G0al/HbGZm/aPsGtTFwGHAZcChwFzgRkmbdLaQpMWA8cBmwA+A44D1gdskLdWXAZuZWf8o7X5QkjYE9gAOi4gzctmlwMPAOGDzThb/GrA68ImI+Fte9sa87GHA9/swdDMz6wdl1qB2A2YBF9QKImIGcCEwWtLyXSx7Vy055WUfA/4IfKlvwjUzs/5U5h111wMei4i3GsrvAQSsC0xpXEjSAsDHgfML1nkPsK2kRSLinYJlhwPDG4pXBpg8eXK330BnZr/xUq+ur688/fTTZYfQmmlzy46gawNkX777yrtlh9CSgfLZfH7WwNifw3p5f9b9Zg7p1RXXKTNBLQ88X1BeS0orNFluaWAoBckrlymve1LB9G+SzlfNY7PNNuss1kFr1fPKjmAQOdN9dHrTqkd4f/aqVftsfzb7vZ1vZSaoYcDMgvIZddObLUcPlz2D1DGj3geAkcDjwJwmy1XBCOAOUseQ3q3utSfvz97jfdm7Bsr+HEJKTvf21QbKTFDTSTWhRgvXTW+2HD1ZNiKmAdMKJv2zybYqQ1Ltz8kR8XSJoQwK3p+9x/uydw2w/dknNaeaMjtJTCFl30a1sheaLDeVVHtqtmxQ3PxnZmYDSJkJ6n5gzTymqd5G+fmBooUiYi7wELBBweSNgMeLOkiYmdnAUmaCuhJYCDigViBpKLA/MDEiXshlK0las2DZjSWtV7fsGsDWwBV9HbiZmfW90s5BRcTdkq4ATs1jniYB+5K6fe9XN+ulwBak3nk15wIHAjdI+jEwGzic1LR3et9HX4ppwH9RfA7Nus/7s/d4X/Yu789MEVHexqWFgROBrwBLAQ8Cx0TEH+rmuQ3YIiLUsOwIUjLajlQTHA98MyKe7J/ozcysL5WaoMzMzJop+2KxZmZmhZygzMyskpygzMyskpygzMyskpygzMysksq8Fp91QtLiwPCIeK6ubHmD0oDiAAAT30lEQVTgP0nXHLwqIu4pK76BROniZgcBY0kXBi6663JEhL8PVhpJQ4DP0PEZVcMsEREn9ntgJXI384qS9H/AahGxYX69GPAI8GHSwOS5wPYRcVtpQQ4Qkk4jDeS+n3SV6NeL5ouI/+rPuAYSSbNI17nsjoiIoos6WwNJGwBXka5k3piYaiIi+uzeS1XkI8bqGg38tO71l4EVSdcbfJR09+DvArf1e2QDz77A1RHxxbIDGcDG0f0EZa07l3SboJ2BO/KdF9qeE1R1LQs8V/d6R2BCRNwLIOnnwPElxDUQDQNuKTuIgSwivlt2DIPcx4FjI+K3ZQdSJe4kUV3TgGUAJC1Euh7hTXXT5wCLlBDXQDSe4qvfm1XFZJo37bUt16Cq607gQEm3AjsBiwLX1k1fA3i+jMAGoK8BN0s6EjjfzSfdJ+kYUhPfDyMi8uuuRESc0sehDRanAd+UdF5EvFV2MFXhThIVJWl14GZglVz044g4Ik8bAjwN/D4iDiwlwAFE0uukW7sMy0VvkWqg9SIilunXwAYQSXNJCWpYRLybX3el7U7q95SkQ0jnSlcELic17xd9Rs/u79jK5ARVYblpby3gjfpbP+cu6FsDDwyAW0KXTtLFtHCCPyL27/toBqZ8UEREzKl/3ZXa/NY5J/xiTlBmZiWTtHIr80XEM30dS5U4QVWUpG2A9SPitLqyfYETSAN1Lwe+7SPUrklaPCLeLDsOM+sed5KoruOp62YuaRRpXNT9wOPAwcCLpPEp1rnXJT1EGqQ7gdRd/4WSYxrwJG0HHAasDyxJQa/giPhAf8c1kElaGvg06c7iAM8Af4iIqeVFVR4nqOoaBVxd93ov4F+kuwtPl/QvYB+coFpxKGng8y7AN4CQ9DQpWd1BSliPlRfewCNpZ9KVDx4DfgMcCPyKlKR2BP4B/K60AAcgSUcD3yO1kNSbIenEduwR6XFQ1bUoaSxUzfakXnvT8+v76DjKsk5ExDkRsWdEjABWB8YAt5KuyvET4BFJL5UZ4wB0LOkzuE7+G+CnEbE78DFgBVKSshZI+k/gB6Qxe9uTeu+ukv++FThJ0v8rK76yuAZVXc8BawNIWhFYDzirbvrSwMwS4hrQIuJJSa8BrwCvkS4t81HyoGhr2drA0RExW9LsXLYQvLePzwWOAi4rK8AB5mDSAejnGsqfJY3huwE4hHRA1TacoKrrF8DRkoaSjvSnAdfVTd8A+GcZgQ00kkaQmvg2y89rA+8CfyE1o04AJpYW4MA0nbQPiYhpkmYCy9VNn0K6Kre1ZjXgnE6m/w74736KpTKcoKrrB8AHgB1IyWnn2hUQ8onULYAzywtvQHmWNOjxFlLvx4nAPRHxbqlRDWyPkc6T1jwAfEXSZcAQYE/efy1J69yr5BaTJtbO87QVJ6iKiojZpLb9YwumTeX9R6vWuadJ7fmfIg3YFTBX0r0RMavEuAay64BDJB0RETOBk4FrSLcymQssQeo4Ya25AjhY0lPAObVzzZKGkS7VdRDQVleRAI+DsjYhaQU6mvg2I53Ifxe4l46efL8vL8KBT9JWpJ6Sc4DrI8JXkG+RpEWB3wJbkj6Xk/OkEaSWlPHAjhHxTikBlsQJqsIkLQzsSvNxJhERY/s9sEFA0hKkffsd4CMA7XYZme7KF9v9bUT8vexYBitJOwGf5f3joG4g7fe2+7F2gqqofOmT8aSmqWmkBDUVGE5q438VeCsifCK6RZJGkmpPtcfqpOa+qcDEiNipxPAqL18v7isRcXl+vTSp+fTzEfGnMmOzwcnjoKrrNFJS2pjUDVrA7sBipKP+6cBnSotuAJH0S0nPk67AcRGwDXAPqW3/YxGxrJNTj4j0efS5bOsT/mBV19bAuRFxTz5ShVTjnQmcli99dAbQOG7C5jWKdLWD2rmmyV3Mb9ancmeIucCaETErv+6qOSsiYrW+j646nKCqaxFS8wmkSxwFqUZV82fgR/0c04AUEeuUHYNZg9tJ3+m5Da+tjhNUdT1L6sFDHq3/PKm5r3Z9vrWAGSXFZu3rw5I+nv8enp9HSiocoxMRD/ZPWANLROzX2WtL3EmiovKlYjaOiPXz6xOAo4GLSecO9wYujYgDSgtyAMk/qgfTeY/Itmo+6a66u+q+r7ig7L1y94xsjaTvA1dHxMNNpq8N7BoRJ/RvZOVyDaq6fgh8UtLQuoGQKwC7kcaZXA4cXmJ8A4akLYHfkwaR3ke6ruGtpKtGbwI8QrrskXXOdxzuO8cDTwCFCYo0bu840v3g2oYTVAVJ2pjUvfw10pEoETEDOCA/rHtOAJ4kNZF+AHgZODkibpW0EXAjqWekdSIiLik7hjbWlheHdoKqkDx49Peki8PWvCRpx4jwEX7PrQ8cFxH/krRULhsCEBF3S/oJcCIpUZn1C0mbk64cUbOLpNULZh1OGmLyUH/EVSVOUNVyNOko/0rgNtIVjr8KXEKq4lvPzAZqt3yfBswCPlg3/UlSpxOz/rQVqdkO0nm8XfKjUZCS0zf6Ka7KcCeJCpH0KPBQvulbrWwscD6wRkQ8UVpwA5ik+4DxEXFEfv0A8HhE7JZf/wb4uK/KYf0p30pnYTquZnIQ6aKx9QKY3q4XNXYNqlpWAU5vKLuZ9AFegXQS1brvBmCMpKPzVeL/G7hI0uN5+mqk2qtZv8mdn2YCSFoVeLnujtmGL3VUNQsDbzeU1a5e7IOJnjuRdGvyOfDeyf59SD2mHgDGRMS48sIzYxHSxYsLSdpL0pr9GE8luImvQvI4k6N5/8n64aTzUQeRrh/3Ph4I2TlJQ4AVSRfWnVp2PGZFJF0HLBARn+9k+tyI2Ll/IyuXE1SFNBkICcWDIT0QsgWSFiLVQo+MiMbmU7NKkPQScGpE/LjJ9MNIn+Hl+zeycrnZqFo8ELKX5QtxPoebs63alqDzS5fNouPSUm3DNSgb9CQdTmoi3TgippUdj1kjSQ8Bk5o14eUmvo9ExKj+jaxcrkFZO5hDGgs1SdKvSVeJb+wtFRFxdn8HZpZdBPxI0qnAiRHxJrw3eP97pNvqHFVifKVwDcoGvXxurys+n2elkSTSgPyvkA6mavcsG0GqSPwf6W7GbfWD7QRlg56klVuZLyKe6etYzDojaRvS1SRWzUWTgGsi4tbyoiqPE5SZmVWSezaZmVkluZOEDTqSnqL7t8/2DQutNPkc1EHAWGAksFTBbBERbfWb3VZv1trG7cyboDYA1gYeBf6Ry9YgXcX8YXzDQivXqaQbkN4PXEa6uWbb8zkoG/Qk7UzqxrtbRPyxYdq2wK+B/SLi2jLiM5P0MnB7RHyx7FiqxOegrB2cAJzdmJwAIuIW4H+Ak/o9KrMOw4Bbyg6iapygrB18BHitk+mvkW65YVaW8aRmaKvjJj4b9CQ9TLqW2aYR8U7DtEWBO4EhEeG7FlspJI0g3fvtYuB8X5IrcYKyQS+fg7oSeJ50Lqp248ePAPuRbgb5xYj4TSkBWtuT9DqwEKmpD+At8v3L6kRELNOvgZXMCcragqTtgHGkGxfWux84OiJu6v+ozBJJF9PC0IiIaKs7HjhBWVuRtBxQu/TRMxHxYpnxmFlzTlBmZlZJHqhrbSHf+v0zdIzSV8MsEREn9ntg1pYk7ZP//HlERN3rTkXEpX0YVuW4BmWDnqQNgKtIty5oTEw1vt2G9Zt8C5gAhkXEu74lTDHXoKwdnEvqHbUzcIe78FoFrAoQEe/Wv7b3cw3KBj1JM4BjI+LHZcdiZq3zlSSsHUymedOeWekkzZH05U6m7y6pcVzUoOcEZe3gNGCspMXKDsSsia4OoIbQ/VvIDHg+B2WDjqRDCorfAZ6QdDnwHMWj9M/u8+DMmitMQJKWIPVAfbV/wymfz0HZoNNij6hGbddDysol6Tjg+63ODpwREYf3YUiV4xqUDUbuEWUDwV3AWaTkcwhwE/BYwzwBvE26oWbb3a/MNSgzs5JJugg4LyLuLjuWKnEnCRv03EPKqi4i9i9KTpIWyreEaUtOUNYO3EPKKk3SHpJObyg7lnTbjWmSrmnHXqhOUNYu3EPKquxbwOK1F5I+CZwI3EgaJvEZ4NhyQiuPE5QNSpKOy017c0jJ6bLa6/oH8DqwN3B5qQFbu1sNeKDu9Z7AFGDXiDgGOAfYtYzAyuRefDZYuYeUDSRDSWP1aj4D3BgRtXOjfwe+3u9RlcwJygalfIfcmwAkLYl7SFm1PQVsCFwoaQ1gFHBc3fTlSOej2oq7mZuZlUzSwcCZwPXA2qTKwxoRMT1P/x2waERsVV6U/c81KBt0fDM4G2gi4ux81f0dgNuBcXXJaWlSDeq8EkMshWtQNuj4ZnBmg4NrUDYY+WZwZoOAa1A2KEn6JXAHMBF4IPxBtwqRNB6YC3wmImZLurWFxSIitunj0CrFNSgbrHYCvkRq6ntL0l3AhPy4OyLe6Wxhsz4m3j8OdQG6vppJ29100zUoG5QkLQSsD2wKfCo/f4j0IzAHuJ+UrCYCEyLipZJCNbMmnKCsbUgaSUpUtaS1Fh1HpZMi4qNlxWbtTdKngW1JV5RYHHgTeBy4OSLGlxlbmZygrC1JWgTYnnQNtE1wLz4rgaQRwJXAJyluwgvSVVG+FBHP92dsVeBzUNYWJK1AR+1pU2Ad0lXMnwR+Dvy5vOisHUkaSroY7CjgJ8BlwCOkK0YsBnwM+ApwIHC9pA3reqa2BdegbFCStA4d5542BVYGpgP3AXeSEtKdEeGrmFspJI0FfgrsHhFXdDLfl4BfAmMj4qL+iq8KnKBsUMqDc2cB15FG5v+Z1N18dqmBmWX58kWLRcSWLcx7G/BmROzY13FViW+3YYPVU8BCwOdI3c2/CHxW0jKlRmXWYR3g5hbnvQlYtw9jqSSfg7JBKSJWk/QhOpr4tgQOAxaU9ASpme9OUjPfI6UFau1sGeCFFuedkudvK05QNmjlsU1X5weSFgY2oqOb+Q+B4ZLeAO6KiB3KitXa0sJAq50eZpHuGdVWnKCsbUTEDNL5qNvzmKjNST2kNiHdIM6sv31Y0sdbmG+lPo+kgtxJwgY9SQvScVWJ2uODefJs4G/AxIj4VjkRWjuqu+p+S7PThmP1XIOyQUnS5+joZv5JUnOKgDdIPfpqlzm6p3bfHbN+tn/ZAVSda1A2KNXdA+oZOpLRROBhX9ncbGBwDcoGq91JzXat9pIys4pxDcrMzCrJA3XNzKySnKDMzKySnKCsbUlaUFJIuqCftndA3t7o/thef5K0en5v3y07Fhs8nKBs0JG0Zf6xbPbYuOwYuyLppIaY50qaKukWSZ8vO75WSFpa0vGSNi87FhuY3IvPBrP/A24oKH8CICJmSxpGGqxbVccCz5K+qx8BDgJ+K2mPiPhVqZF1bWngONL+/VPJsdgA5ARlg9lfI+KyzmbIlz+qshsi4v7aC0lXAX8BjgKqnqDM5oub+KxtFZ2Dqi+TNFrSHZLekfSqpPMlLdqwjlGS/lfSo5LezPPeJ2lMX8QcEX8FppFqU0XvaU9JE+tiuUvSLgXz7SjpT/l9TZf0jKSrJK1eN8+EfOX3xmW7PN8k6dPA4/nliXVNlfOsz6wZ16BsMFtE0rINZTMj4s0Wlv0E8AXgQtKtuLcmXVh2NvC1uvm2IV1O6TrSPagWIw0SvlDSMhFx2vy9hffL72dJYHLBtB8C3yE1a34PmAvsClwl6asRcV6ebxvgN8CDwMmkyz+tCHwaGEluAp1PDwPfBn4EXAlcm8tb2fdmSUT44cegepDu/RRNHr+sm2/BXHZBQdkcYIOG9d4EzASG1ZUtWrD9IaTLK00FhtSVH5DXPbqF93BSnndLYFlgOWA06WrsAZzcMP+GufyEgnX9jlTrWjS/PivPu0wXMUwAnigoXz0v/93ulvnhR3cerkHZYHY+cEVD2YstLjshIu5rKLsV2A5YGXgMICLerk3M95talHRR2ptINauPAn/vduQdxje8ngGcQqoh1duLlAwuLag1Xke6s/BG+T28kct3lXRhRMyZj/jM+owTlA1mj0fEH3q47JMFZa/l5/fubCppceC/SLeUH1GwzFI93H7NfwKTgEVIzYkHA0sWJJVRpMT4OM19KD+fBewI/AQ4TdIE4EZS7fLV+YzXrNc4QZkV66xWobq/fwVsD5xHahJ7LS+7I3AI898R6e7o6MV3naRXSJ0O/hYR9QOMlbe7A+ncU5GHASLiFUmfIN2wcdv8fCZwgqTtI+KePH+zC3X6d8P6hT9oZj0kaRngs8DPIuJrDdO276PNngqMAU6W9MuIeCuXP07q5PBURHRWiwIg18DG5weS1gPuJY272inPNhVYu2DxkS3G6itR23xxN3OznqvVsuprVEhakZREel1EvEs6B/VvwDfqJv08P58iaZ67rkr6UN3fjeeoAB4ldQBZuq7sn8BSktavW3YB4JsthltLnkt3OpdZE65BmfVQREyT9EdgX0kzSQNoV6bjvNEGfbTpS0idJL4t6ZyIeDMi/izpxFz+V0lXAlOA5XMc2wHD8vIXSfogcAvpho6LAHvm50vrtnMeKRldJ+lMYBbpXFtLtx2PiJckPQ3slZ9fBt6MiOt7/M6trbgGZTZ/9iQljJ2Bs0nNY0eROiD0iVyLGkfqrHFIXfn38/ZfBg4HziGN3Vqofr4c78vAfsD/kJr1pgO7RMRP69Y3iTQW7DXgB8ARpG7uY7sR7p6kZH0K6dJTZ3ZjWWtzvmGhmZlVkmtQZmZWSU5QZmZWSU5QZmZWSU5QZmZWSU5QZmZWSU5QZmZWSU5QZmZWSU5QZmZWSU5QZmZWSf8fzNrHekITzLoAAAAASUVORK5CYII\u003d\n"
          },
          "metadata": {
            "needs_background": "light"
          },
          "output_type": "display_data"
        }
      ],
      "source": "# Define code module\ncode_module \u003d \u0027AAA\u0027\n# Get the number of values for each category for the code module\nstudent_info_f \u003d student_info.loc[student_info[\u0027code_module\u0027] \u003d\u003d code_module]\nfinal_results_f \u003d student_info_f[\u0027final_result\u0027].value_counts()\nprint(final_results_f.head())\n# Normalize the value counts\nfinal_results_f \u003d final_results_f.div(final_results_f.sum(), axis\u003d0)\n# Plot the final results categories\nax \u003d final_results_f.plot(kind\u003d\u0027bar\u0027)\nax.set_title(\u0027Final result ratios for all students on {}\u0027.format(code_module))\nax.set_xlabel(\u0027Final Result\u0027)\nax.set_ylabel(\u0027Ratio\u0027)\n"
    },
    {
      "cell_type": "markdown",
      "metadata": {
        "pycharm": {
          "metadata": false
        }
      },
      "source": "What is the completion rate for `AAA`?"
    },
    {
      "cell_type": "code",
      "execution_count": 34,
      "metadata": {
        "pycharm": {
          "is_executing": false,
          "metadata": false,
          "name": "#%%\n"
        }
      },
      "outputs": [
        {
          "name": "stdout",
          "text": [
            "Final result:\nnot completed: 0.290\ncompleted: 0.710\n"
          ],
          "output_type": "stream"
        }
      ],
      "source": "get_completion_rate(final_results_f)\n"
    },
    {
      "cell_type": "markdown",
      "source": "#### What is the final results for each code_module?\n",
      "metadata": {
        "pycharm": {
          "metadata": false,
          "name": "#%% md\n"
        }
      }
    },
    {
      "cell_type": "markdown",
      "source": "## Reflections on describing and exploring data?",
      "metadata": {
        "pycharm": {
          "metadata": false,
          "name": "#%% md\n"
        }
      }
    }
  ],
  "metadata": {
    "kernelspec": {
      "display_name": "Python 3",
      "language": "python",
      "name": "python3"
    },
    "language_info": {
      "codemirror_mode": {
        "name": "ipython",
        "version": 3
      },
      "file_extension": ".py",
      "mimetype": "text/x-python",
      "name": "python",
      "nbconvert_exporter": "python",
      "pygments_lexer": "ipython3",
      "version": "3.7.1"
    },
    "stem_cell": {
      "cell_type": "raw",
      "source": "",
      "metadata": {
        "pycharm": {
          "metadata": false
        }
      }
    }
  },
  "nbformat": 4,
  "nbformat_minor": 2
}