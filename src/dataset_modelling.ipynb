{
  "cells": [
    {
      "cell_type": "markdown",
      "metadata": {
        "pycharm": {
          "metadata": false
        }
      },
      "source": [
        "### Learning Objectives\n",
        "The goal of this notebook is to see and practice:\n",
        "- Clustering the data set (Unsupervised)\n",
        "- Predictive modelling (Supervised)\n",
        "- See and practice data science research tools and practices\n",
        "\n",
        "### 1 Practical Data Science Research\n",
        "Can we find good online learning strategies?\n",
        "\n",
        "Define:\n",
        "- What are strategies we observe in the data set?\n",
        "- Can we predict future learning outcome?\n",
        "\n",
        "We will:\n",
        "- Decide what features to create;\n",
        "- Create the features;\n",
        "- Checking how the features work with your model;\n",
        "- Maybe improve the features based on the performance measure;\n"
      ]
    },
    {
      "cell_type": "code",
      "execution_count": 1,
      "metadata": {
        "pycharm": {
          "is_executing": false,
          "metadata": false,
          "name": "#%%\n"
        }
      },
      "outputs": [],
      "source": [
        "# Import libraries\n",
        "import os\n",
        "\n",
        "import pandas as pd\n",
        "import seaborn as sns\n",
        "import numpy as np\n",
        "import matplotlib.pyplot as plt"
      ]
    },
    {
      "cell_type": "code",
      "execution_count": 2,
      "metadata": {
        "pycharm": {
          "is_executing": false,
          "metadata": false,
          "name": "#%%\n"
        }
      },
      "outputs": [],
      "source": [
        "# Declare constants\n",
        "DATA_FOLDER \u003d \u0027../data\u0027\n",
        "# Set random seed\n",
        "RND_SEED \u003d 0\n",
        "# Pick one code_module\n",
        "MODULE_CODE \u003d \u0027AAA\u0027\n",
        "# Set styles\n",
        "sns.set_context(\"notebook\", font_scale\u003d1.5, rc\u003d{\"lines.linewidth\": 2.5})\n"
      ]
    },
    {
      "cell_type": "markdown",
      "metadata": {
        "pycharm": {
          "metadata": false
        }
      },
      "source": [
        "### 2 Create a data set\n",
        "Does knowing how a student performed on an assessment help?\n",
        "\n",
        "Create your own data set and models."
      ]
    },
    {
      "cell_type": "code",
      "execution_count": 3,
      "metadata": {
        "pycharm": {
          "is_executing": false,
          "metadata": false,
          "name": "#%%\n"
        }
      },
      "outputs": [],
      "source": [
        "# Does clicking on resources correlate with final result performance?\n",
        "# Load tables\n",
        "student_vle_path \u003d os.path.join(DATA_FOLDER, \u0027studentVle.csv\u0027)\n",
        "student_vle \u003d pd.read_csv(student_vle_path)\n",
        "\n",
        "student_info_path \u003d os.path.join(DATA_FOLDER, \u0027studentInfo.csv\u0027)\n",
        "student_info \u003d pd.read_csv(student_info_path)\n",
        "\n",
        "student_assessment_path \u003d os.path.join(DATA_FOLDER, \u0027studentAssessment.csv\u0027)\n",
        "student_assessment \u003d pd.read_csv(student_assessment_path)\n"
      ]
    },
    {
      "cell_type": "code",
      "execution_count": 4,
      "metadata": {
        "pycharm": {
          "is_executing": false,
          "metadata": false,
          "name": "#%%\n"
        }
      },
      "outputs": [],
      "source": [
        "# Filter\n",
        "student_vle \u003d student_vle.loc[student_vle[\u0027code_module\u0027] \u003d\u003d MODULE_CODE]\n",
        "student_info \u003d student_info.loc[student_info[\u0027code_module\u0027] \u003d\u003d MODULE_CODE]\n"
      ]
    },
    {
      "cell_type": "code",
      "execution_count": 5,
      "metadata": {
        "pycharm": {
          "is_executing": false,
          "metadata": false,
          "name": "#%%\n"
        }
      },
      "outputs": [
        {
          "name": "stdout",
          "text": [
            "\u003cclass \u0027pandas.core.frame.DataFrame\u0027\u003e\nInt64Index: 3367 entries, 0 to 3366\nData columns (total 6 columns):\nid_student           3367 non-null int64\nfinal_result         3367 non-null object\ncode_module          3367 non-null object\ncode_presentation    3367 non-null object\nscore                3362 non-null float64\nid_assessment        3367 non-null int64\ndtypes: float64(1), int64(2), object(3)\nmemory usage: 184.1+ KB\nNone\n",
            "\u003cclass \u0027pandas.core.frame.DataFrame\u0027\u003e\nInt64Index: 625735 entries, 0 to 1748416\nData columns (total 8 columns):\nid_student           625735 non-null int64\nfinal_result         625735 non-null object\ncode_module          625735 non-null object\ncode_presentation    625735 non-null object\nsum_click            625735 non-null int64\nid_site              625735 non-null int64\nscore                625247 non-null float64\nid_assessment        625735 non-null int64\ndtypes: float64(1), int64(4), object(3)\nmemory usage: 43.0+ MB\nNone\n"
          ],
          "output_type": "stream"
        }
      ],
      "source": [
        "# Merge tables\n",
        "student_info_and_assessment \u003d pd.merge(student_info, student_assessment, on\u003d\u0027id_student\u0027)\n",
        "student_info_and_assessment \u003d student_info_and_assessment[\n",
        "    [\u0027id_student\u0027, \u0027final_result\u0027, \u0027code_module\u0027, \u0027code_presentation\u0027, \u0027score\u0027, \u0027id_assessment\u0027]\n",
        "]\n",
        "student_info_and_assessment.drop_duplicates(inplace\u003dTrue)\n",
        "print(student_info_and_assessment.info())\n",
        "\n",
        "student_info_and_assessment_and_vle \u003d pd.merge(student_info_and_assessment, student_vle,\n",
        "                                               on\u003d[\u0027code_module\u0027, \u0027id_student\u0027, \u0027code_presentation\u0027])\n",
        "student_info_and_assessment_and_vle \u003d student_info_and_assessment_and_vle[\n",
        "    [\u0027id_student\u0027, \u0027final_result\u0027, \u0027code_module\u0027, \u0027code_presentation\u0027, \u0027sum_click\u0027,\n",
        "     \u0027id_site\u0027, \u0027score\u0027, \u0027id_assessment\u0027]\n",
        "]\n",
        "student_info_and_assessment_and_vle.drop_duplicates(inplace\u003dTrue)\n",
        "print(student_info_and_assessment_and_vle.info())\n"
      ]
    },
    {
      "cell_type": "markdown",
      "metadata": {
        "pycharm": {
          "metadata": false,
          "name": "#%% md\n"
        }
      },
      "source": [
        "### 3 Create Features\n",
        "Create aggregate features\n",
        "\n",
        "Are there other interesting features?"
      ]
    },
    {
      "cell_type": "code",
      "execution_count": 6,
      "metadata": {
        "pycharm": {
          "is_executing": false,
          "metadata": false,
          "name": "#%%\n"
        }
      },
      "outputs": [
        {
          "name": "stdout",
          "text": [
            "(677, 5)\n             sum    mean_x     std_x  mean_y     std_y\nid_student                                            \n6516        9075  7.202381  7.433763    61.8  9.242716\n"
          ],
          "output_type": "stream"
        }
      ],
      "source": [
        "# TODO variable names\n",
        "# Student clicks\n",
        "student_click \u003d student_info_and_assessment_and_vle.groupby(by\u003d\u0027id_student\u0027).sum_click.agg([np.sum, np.mean, np.std])\n",
        "# Student assessment score\n",
        "student_score \u003d student_info_and_assessment_and_vle.groupby(by\u003d\u0027id_student\u0027).score.agg([np.mean, np.std])\n",
        "df \u003d pd.merge(student_click, pd.DataFrame(student_score), on\u003d\u0027id_student\u0027)\n",
        "# Drop missing values\n",
        "df \u003d df.dropna()\n",
        "print(df.shape)\n",
        "print(df.head(1))\n"
      ]
    },
    {
      "cell_type": "markdown",
      "metadata": {
        "pycharm": {
          "metadata": false
        }
      },
      "source": [
        "### 4 Cluster the data set\n",
        "\n",
        "Try other clustering parameters or methods\n"
      ]
    },
    {
      "cell_type": "markdown",
      "metadata": {
        "pycharm": {
          "metadata": false,
          "name": "#%% md\n"
        }
      },
      "source": [
        "Use unsupervised learning to create a model from unlabeled data\n",
        "- How do we measure similarity between data points\n",
        "- K-Means tries to partition the observations in k clusters so each observation belongs to the cluster with the nearest\n",
        " mean. "
      ]
    },
    {
      "cell_type": "code",
      "execution_count": 7,
      "metadata": {
        "pycharm": {
          "is_executing": false,
          "metadata": false,
          "name": "#%%\n"
        }
      },
      "outputs": [
        {
          "name": "stdout",
          "text": [
            "Cluster centers:\n[[ 0.61302372 -0.5718084 ]\n [-0.35455908  0.57372615]\n [ 1.32837878  0.78314432]\n [-0.91693725 -1.32937267]]\n"
          ],
          "output_type": "stream"
        }
      ],
      "source": [
        "# Import clustering libraries\n",
        "from sklearn.cluster import KMeans\n",
        "from sklearn.preprocessing import StandardScaler\n",
        "# Get values for clustering\n",
        "# We use only 2D to make visualization easier\n",
        "xs \u003d df[[\u0027mean_x\u0027, \u0027mean_y\u0027]].values\n",
        "# Standardize the data\n",
        "sc_x \u003d StandardScaler()\n",
        "xs_p \u003d sc_x.fit_transform(xs)\n",
        "# K-Means requires a predetermined number of clusters\n",
        "# Maybe four will work since there are four final result categories...\n",
        "n_clusters \u003d 4\n",
        "# Fit a KMeans model to the data\n",
        "kmeans \u003d KMeans(n_clusters\u003dn_clusters,\n",
        "                # Set random state so results are replicable\n",
        "                random_state\u003dRND_SEED,\n",
        "                max_iter\u003d10).fit(xs_p)\n",
        "print(\u0027Cluster centers:\\n{}\u0027.format(kmeans.cluster_centers_))\n"
      ]
    },
    {
      "cell_type": "markdown",
      "metadata": {
        "pycharm": {
          "metadata": false,
          "name": "#%% md\n"
        }
      },
      "source": [
        "Visualize the clustered data\n",
        "- For visualization we use only 2D data\n"
      ]
    },
    {
      "cell_type": "code",
      "execution_count": 8,
      "metadata": {
        "pycharm": {
          "is_executing": false,
          "metadata": false,
          "name": "#%%\n"
        }
      },
      "outputs": [
        {
          "data": {
            "text/plain": "Text(0, 0.5, \u0027Standardized Mean Number of clicks\u0027)"
          },
          "metadata": {},
          "output_type": "execute_result",
          "execution_count": 8
        },
        {
          "data": {
            "text/plain": "\u003cFigure size 432x432 with 1 Axes\u003e",
            "image/png": "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\u003d\n"
          },
          "metadata": {
            "needs_background": "light"
          },
          "output_type": "display_data"
        }
      ],
      "source": [
        "from sklearn.metrics.pairwise import pairwise_distances_argmin\n",
        "fig \u003d plt.figure(figsize\u003d(6, 6))\n",
        "colors \u003d [\u0027red\u0027, \u0027green\u0027, \u0027blue\u0027, \u0027black\u0027]\n",
        "# Get distance between data points and cluster centers to determine nearest cluster\n",
        "center \u003d pairwise_distances_argmin(xs_p, kmeans.cluster_centers_)\n",
        "# Get figure axis\n",
        "ax \u003d fig.add_subplot(1, 1, 1)\n",
        "# Iterate over clusters \n",
        "for k in range(n_clusters):\n",
        "    # Get the data points that belong to the cluster-k \n",
        "    _members \u003d center \u003d\u003d k\n",
        "    # Plot the data points\n",
        "    ax.plot(xs_p[_members, 0], xs_p[_members, 1], \u0027w\u0027,\n",
        "            markerfacecolor\u003dcolors[k], marker\u003d\u0027.\u0027)\n",
        "    # Get cluster center\n",
        "    cluster_center \u003d kmeans.cluster_centers_[k]\n",
        "    # Plot the cluster center\n",
        "    ax.plot(cluster_center[0], cluster_center[1], \u0027o\u0027, markerfacecolor\u003dcolors[k],\n",
        "            markeredgecolor\u003d\u0027k\u0027, markersize\u003d6)\n",
        "    \n",
        "ax.set_title(\u0027KMeans\u0027)\n",
        "plt.xlabel(\u0027Standardized Mean Assessment score\u0027)\n",
        "plt.ylabel(\u0027Standardized Mean Number of clicks\u0027)\n"
      ]
    },
    {
      "cell_type": "markdown",
      "metadata": {
        "pycharm": {
          "metadata": false,
          "name": "#%% md\n"
        }
      },
      "source": [
        "### 5 Predict the final result\n",
        "Use supervised learning to create a predictive model using the final result as labels\n",
        "- How to construct the predictive model\n",
        "- How to measure predictive model performance\n",
        " -  We will calculate the area under the receiver operating characteristic curve (AUC), \n",
        " the probability that a classifier will rank a random positive instance higher than a random negative\n",
        " - The receiver operating characteristic curve (ROC) is a measure of a binary classifier system performance when varying\n",
        "  the discrimination threshold.  \n",
        "- Which classification model and hyper-parameters to use\n",
        "- How to use the data for training\n"
      ]
    },
    {
      "cell_type": "code",
      "execution_count": 9,
      "metadata": {
        "pycharm": {
          "is_executing": false,
          "metadata": false,
          "name": "#%%%\n"
        }
      },
      "outputs": [],
      "source": [
        "# Import machine learning methods\n",
        "from sklearn.tree import DecisionTreeClassifier\n",
        "from sklearn.model_selection import train_test_split\n",
        "from sklearn import metrics\n",
        "from sklearn.preprocessing import StandardScaler\n",
        "from sklearn.linear_model import LogisticRegression\n",
        "from sklearn.naive_bayes import GaussianNB\n",
        "from sklearn.ensemble import RandomForestClassifier\n",
        "from sklearn.neighbors import KNeighborsClassifier\n",
        "from sklearn.neural_network import MLPClassifier\n"
      ]
    },
    {
      "cell_type": "markdown",
      "metadata": {
        "pycharm": {
          "metadata": false,
          "name": "#%% md\n"
        }
      },
      "source": [
        "Set label of the data\n",
        "- Make a binary classification to simplify the prediction\n",
        " - We care initially more about passing or failing than the nuances within\n"
      ]
    },
    {
      "cell_type": "code",
      "execution_count": 10,
      "metadata": {
        "pycharm": {
          "is_executing": false,
          "metadata": false,
          "name": "#%%\n"
        }
      },
      "outputs": [],
      "source": [
        "# Student final result\n",
        "labels \u003d student_info_and_assessment_and_vle.groupby(by\u003d\u0027id_student\u0027).final_result.first()\n",
        "labels \u003d pd.DataFrame(labels)\n",
        "labels.loc[labels[\u0027final_result\u0027] \u003d\u003d \u0027Withdrawn\u0027] \u003d \u0027Fail\u0027\n",
        "labels.loc[labels[\u0027final_result\u0027] \u003d\u003d \u0027Distinction\u0027] \u003d \u0027Pass\u0027\n",
        "labels[\u0027code\u0027] \u003d labels.final_result.astype(\u0027category\u0027).cat.codes\n",
        "ys \u003d labels.code.values\n",
        "assert ys.shape[0] \u003d\u003d xs.shape[0]\n"
      ]
    },
    {
      "cell_type": "markdown",
      "metadata": {
        "pycharm": {
          "metadata": false,
          "name": "#%% md\n"
        }
      },
      "source": [
        "Preprocess the data set\n",
        "- Split in test and train parts\n",
        "- Scale the data with standardization (z-score), subtracting the mean from the individual values and then divide\n",
        " by the standard deviation."
      ]
    },
    {
      "cell_type": "code",
      "execution_count": 11,
      "metadata": {
        "pycharm": {
          "is_executing": false,
          "metadata": false,
          "name": "#%%\n"
        }
      },
      "outputs": [],
      "source": [
        "# Split the data set\n",
        "X_train, X_test, y_train, y_test \u003d train_test_split(xs, ys, random_state\u003dRND_SEED)\n",
        "# Standardize the data\n",
        "sc_x \u003d StandardScaler()\n",
        "X_train \u003d sc_x.fit_transform(X_train)\n",
        "X_test \u003d sc_x.transform(X_test)\n"
      ]
    },
    {
      "cell_type": "markdown",
      "metadata": {
        "pycharm": {
          "metadata": false,
          "name": "#%% md\n"
        }
      },
      "source": [
        "Train classification models and report performance measures\n"
      ]
    },
    {
      "cell_type": "code",
      "execution_count": 12,
      "metadata": {
        "pycharm": {
          "is_executing": false,
          "metadata": false,
          "name": "#%%\n"
        }
      },
      "outputs": [
        {
          "name": "stdout",
          "text": [
            "Decision Tree confusion matrix:\n[[ 12  32]\n [ 15 111]]\nDecision Tree AUC:0.577\nLogistic Regression confusion matrix:\n[[  7  37]\n [  1 125]]\nLogistic Regression AUC:0.576\nNaive Bayes confusion matrix:\n[[ 12  32]\n [  4 122]]\nNaive Bayes AUC:0.620\nRandom Forest confusion matrix:\n[[ 13  31]\n [ 14 112]]\nRandom Forest AUC:0.592\nK-Nearest Neighbors confusion matrix:\n[[ 10  34]\n [  3 123]]\nK-Nearest Neighbors AUC:0.602\n",
            "MLP confusion matrix:\n[[  8  36]\n [  2 124]]\nMLP AUC:0.583\n"
          ],
          "output_type": "stream"
        },
        {
          "name": "stderr",
          "text": [
            "/Users/erikhemberg/mypy37/lib/python3.7/site-packages/sklearn/linear_model/logistic.py:433: FutureWarning: Default solver will be changed to \u0027lbfgs\u0027 in 0.22. Specify a solver to silence this warning.\n  FutureWarning)\n/Users/erikhemberg/mypy37/lib/python3.7/site-packages/sklearn/ensemble/forest.py:246: FutureWarning: The default value of n_estimators will change from 10 in version 0.20 to 100 in 0.22.\n  \"10 in version 0.20 to 100 in 0.22.\", FutureWarning)\n"
          ],
          "output_type": "stream"
        }
      ],
      "source": [
        "# Create the different classifiers\n",
        "classifiers \u003d {\u0027Decision Tree\u0027: DecisionTreeClassifier(random_state\u003dRND_SEED), \n",
        "               \u0027Logistic Regression\u0027: LogisticRegression(random_state\u003dRND_SEED),\n",
        "               \u0027Naive Bayes\u0027: GaussianNB(),\n",
        "               \u0027Random Forest\u0027: RandomForestClassifier(random_state\u003dRND_SEED),\n",
        "               \u0027K-Nearest Neighbors\u0027: KNeighborsClassifier(),\n",
        "               \u0027MLP\u0027: MLPClassifier(random_state\u003dRND_SEED),\n",
        "               }\n",
        "# Iterate over the classifiers\n",
        "for clf_name, clf in classifiers.items():\n",
        "    # Fit a model on the training data\n",
        "    clf.fit(X_train, y_train)\n",
        "    # Predict the class of the test data with the trained model\n",
        "    y_hat \u003d clf.predict(X_test)\n",
        "    # Measure the performance based on correct and incorrect classification against the actual class\n",
        "    cm \u003d metrics.confusion_matrix(y_test, y_hat)\n",
        "    print(\u0027{} confusion matrix:\\n{}\u0027.format(clf_name, cm))\n",
        "    # Calculate the True and False Positive rates for the ROC curve\n",
        "    fpr, tpr, _ \u003d metrics.roc_curve(y_test, y_hat)\n",
        "    # Get the Area under the ROC curve\n",
        "    auc \u003d metrics.auc(fpr, tpr)\n",
        "    print(\u0027{} AUC:{:.3f}\u0027.format(clf_name, auc))\n"
      ]
    },
    {
      "cell_type": "markdown",
      "metadata": {
        "pycharm": {
          "metadata": false,
          "name": "#%% md\n"
        }
      },
      "source": [
        "Can we determine the best model\n",
        "- How will the model perform on an independent data set\n",
        "- How much of the performance was dependent on the test/train data split?\n",
        " - Try more splits of the data with cross-validation\n",
        "- What about bias: in the model or in the data\n",
        " "
      ]
    },
    {
      "cell_type": "code",
      "execution_count": 18,
      "metadata": {
        "pycharm": {
          "is_executing": false,
          "metadata": false,
          "name": "#%%\n"
        }
      },
      "outputs": [
        {
          "data": {
            "text/plain": "Text(0, 0.5, \u0027AUC\u0027)"
          },
          "metadata": {},
          "output_type": "execute_result",
          "execution_count": 18
        },
        {
          "data": {
            "text/plain": "\u003cFigure size 288x216 with 1 Axes\u003e",
            "image/png": "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\u003d\u003d\n"
          },
          "metadata": {
            "needs_background": "light"
          },
          "output_type": "display_data"
        }
      ],
      "source": "from sklearn.model_selection import StratifiedKFold\n# Split the data in n different folds\nn_folds \u003d 20\ncv \u003d StratifiedKFold(n_splits\u003dn_folds)\n# Get which data is in each split\ncv_splits \u003d cv.split(xs, ys)\n# Test only one classification model for now\nclf \u003d RandomForestClassifier(random_state\u003dRND_SEED)\nclf_name \u003d \u0027Random Forest\u0027\n# Data structure for storing AUCs\naucs \u003d []\n# Iterate over the data splits\nfor train, test in cv_splits:\n    # Scale the data\n    xs[train] \u003d sc_x.fit_transform(xs[train])\n    xs[test] \u003d sc_x.transform(xs[test])\n    # Train classifier\n    clf.fit(xs[train], ys[train])\n    # Predict classes\n    y_hat \u003d clf.predict(xs[test])\n    # Get ROC curve\n    fpr, tpr, _ \u003d metrics.roc_curve(ys[test], y_hat)\n    # Get AUC\n    auc \u003d metrics.auc(fpr, tpr)\n    # Store AUC\n    aucs.append(auc)\n    \n# Plot the AUCs\nfig \u003d plt.figure(figsize\u003d(4, 3))\n_ \u003d plt.boxplot(aucs)\nplt.title(\u0027AUC for {}-fold Cross Validation\u0027.format(n_folds))\nplt.xlabel(clf_name)\nplt.ylabel(\u0027AUC\u0027)\n"
    },
    {
      "cell_type": "markdown",
      "metadata": {
        "pycharm": {
          "metadata": false,
          "name": "#%% md\n"
        }
      },
      "source": [
        "- Was there a dependence on the random seed used when training the model?\n",
        " - Try more instances of the classification model with different random seeds\n"
      ]
    },
    {
      "cell_type": "code",
      "execution_count": 22,
      "metadata": {
        "pycharm": {
          "is_executing": false,
          "metadata": false,
          "name": "#%%\n"
        }
      },
      "outputs": [
        {
          "name": "stdout",
          "text": [
            "            name       auc\n0  Random Forest  0.592172\n1            MLP  0.582973\n2  Random Forest  0.592172\n3            MLP  0.582973\n4  Random Forest  0.561508\n"
          ],
          "output_type": "stream"
        },
        {
          "data": {
            "text/plain": "\u003cmatplotlib.axes._subplots.AxesSubplot at 0x1232b34a8\u003e"
          },
          "metadata": {},
          "output_type": "execute_result",
          "execution_count": 22
        },
        {
          "data": {
            "text/plain": "\u003cFigure size 432x288 with 1 Axes\u003e",
            "image/png": "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\u003d\n"
          },
          "metadata": {
            "needs_background": "light"
          },
          "output_type": "display_data"
        }
      ],
      "source": "# Ignore warnings\nimport warnings\nwarnings.filterwarnings(action\u003d\u0027ignore\u0027)\n# Get random seeds\nrnd_seeds \u003d range(10)\n# Data structure for storing AUCs for the classifiers\nall_aucs \u003d {\u0027name\u0027: [], \u0027auc\u0027: []}\n# Iterate over the random seeds\nfor rnd_seed in rnd_seeds:\n    # Get classifier instances\n    classifiers \u003d {\u0027Random Forest\u0027: RandomForestClassifier(random_state\u003drnd_seed),\n        \u0027MLP\u0027: MLPClassifier(random_state\u003drnd_seed),                   \n                   }\n    # Iterate over classifiers\n    for clf_name, clf in classifiers.items():\n        # Train classifier\n        clf.fit(X_train, y_train)\n        # Predict classes\n        y_hat \u003d clf.predict(X_test)\n        # Get ROC\n        fpr, tpr, _ \u003d metrics.roc_curve(y_test, y_hat)\n        # Get AUC\n        auc \u003d metrics.auc(fpr, tpr)\n        # Store AUC and  classifier\n        all_aucs[\u0027name\u0027].append(clf_name)\n        all_aucs[\u0027auc\u0027].append(auc)\n              \n# Create data frame from classification data\n_df \u003d pd.DataFrame(all_aucs, index\u003drange(len(rnd_seeds)*len(classifiers)))\nprint(_df.head())\n# Plot the AUCs\nsns.violinplot(y\u003d\u0027name\u0027, x\u003d\u0027auc\u0027, data\u003d_df)\n"
    },
    {
      "cell_type": "markdown",
      "metadata": {
        "pycharm": {
          "metadata": false,
          "name": "#%% md\n"
        }
      },
      "source": "Are the differences in AUC between the classifiers statistically significant\n- What statistical test can we use?\n- Can we reject the hypothesis from the statistical test\n - Should we use p-value or confidence bounds\n"
    },
    {
      "cell_type": "code",
      "execution_count": 16,
      "metadata": {
        "pycharm": {
          "is_executing": false,
          "metadata": false,
          "name": "#%%\n"
        }
      },
      "outputs": [
        {
          "ename": "LinAlgError",
          "evalue": "singular matrix",
          "output_type": "error",
          "traceback": [
            "\u001b[0;31m---------------------------------------------------------------------------\u001b[0m",
            "\u001b[0;31mLinAlgError\u001b[0m                               Traceback (most recent call last)",
            "\u001b[0;32m\u003cipython-input-16-6af9ddf245be\u003e\u001b[0m in \u001b[0;36m\u003cmodule\u003e\u001b[0;34m\u001b[0m\n\u001b[1;32m     11\u001b[0m \u001b[0;32mfor\u001b[0m \u001b[0mname\u001b[0m\u001b[0;34m,\u001b[0m \u001b[0mgroup\u001b[0m \u001b[0;32min\u001b[0m \u001b[0mgroups\u001b[0m\u001b[0;34m:\u001b[0m\u001b[0;34m\u001b[0m\u001b[0;34m\u001b[0m\u001b[0m\n\u001b[1;32m     12\u001b[0m     \u001b[0;31m# Plot data\u001b[0m\u001b[0;34m\u001b[0m\u001b[0;34m\u001b[0m\u001b[0;34m\u001b[0m\u001b[0m\n\u001b[0;32m---\u003e 13\u001b[0;31m     \u001b[0msns\u001b[0m\u001b[0;34m.\u001b[0m\u001b[0mdistplot\u001b[0m\u001b[0;34m(\u001b[0m\u001b[0mgroup\u001b[0m\u001b[0;34m.\u001b[0m\u001b[0mauc\u001b[0m\u001b[0;34m,\u001b[0m \u001b[0mlabel\u001b[0m\u001b[0;34m\u003d\u001b[0m\u001b[0mname\u001b[0m\u001b[0;34m)\u001b[0m\u001b[0;34m\u001b[0m\u001b[0;34m\u001b[0m\u001b[0m\n\u001b[0m\u001b[1;32m     14\u001b[0m     \u001b[0;31m# Data distribution normal\u001b[0m\u001b[0;34m\u001b[0m\u001b[0;34m\u001b[0m\u001b[0;34m\u001b[0m\u001b[0m\n\u001b[1;32m     15\u001b[0m     \u001b[0;31m# KS test if the data is normal\u001b[0m\u001b[0;34m\u001b[0m\u001b[0;34m\u001b[0m\u001b[0;34m\u001b[0m\u001b[0m\n",
            "\u001b[0;32m~/mypy37/lib/python3.7/site-packages/seaborn/distributions.py\u001b[0m in \u001b[0;36mdistplot\u001b[0;34m(a, bins, hist, kde, rug, fit, hist_kws, kde_kws, rug_kws, fit_kws, color, vertical, norm_hist, axlabel, label, ax)\u001b[0m\n\u001b[1;32m    229\u001b[0m     \u001b[0;32mif\u001b[0m \u001b[0mkde\u001b[0m\u001b[0;34m:\u001b[0m\u001b[0;34m\u001b[0m\u001b[0;34m\u001b[0m\u001b[0m\n\u001b[1;32m    230\u001b[0m         \u001b[0mkde_color\u001b[0m \u001b[0;34m\u003d\u001b[0m \u001b[0mkde_kws\u001b[0m\u001b[0;34m.\u001b[0m\u001b[0mpop\u001b[0m\u001b[0;34m(\u001b[0m\u001b[0;34m\"color\"\u001b[0m\u001b[0;34m,\u001b[0m \u001b[0mcolor\u001b[0m\u001b[0;34m)\u001b[0m\u001b[0;34m\u001b[0m\u001b[0;34m\u001b[0m\u001b[0m\n\u001b[0;32m--\u003e 231\u001b[0;31m         \u001b[0mkdeplot\u001b[0m\u001b[0;34m(\u001b[0m\u001b[0ma\u001b[0m\u001b[0;34m,\u001b[0m \u001b[0mvertical\u001b[0m\u001b[0;34m\u003d\u001b[0m\u001b[0mvertical\u001b[0m\u001b[0;34m,\u001b[0m \u001b[0max\u001b[0m\u001b[0;34m\u003d\u001b[0m\u001b[0max\u001b[0m\u001b[0;34m,\u001b[0m \u001b[0mcolor\u001b[0m\u001b[0;34m\u003d\u001b[0m\u001b[0mkde_color\u001b[0m\u001b[0;34m,\u001b[0m \u001b[0;34m**\u001b[0m\u001b[0mkde_kws\u001b[0m\u001b[0;34m)\u001b[0m\u001b[0;34m\u001b[0m\u001b[0;34m\u001b[0m\u001b[0m\n\u001b[0m\u001b[1;32m    232\u001b[0m         \u001b[0;32mif\u001b[0m \u001b[0mkde_color\u001b[0m \u001b[0;34m!\u003d\u001b[0m \u001b[0mcolor\u001b[0m\u001b[0;34m:\u001b[0m\u001b[0;34m\u001b[0m\u001b[0;34m\u001b[0m\u001b[0m\n\u001b[1;32m    233\u001b[0m             \u001b[0mkde_kws\u001b[0m\u001b[0;34m[\u001b[0m\u001b[0;34m\"color\"\u001b[0m\u001b[0;34m]\u001b[0m \u001b[0;34m\u003d\u001b[0m \u001b[0mkde_color\u001b[0m\u001b[0;34m\u001b[0m\u001b[0;34m\u001b[0m\u001b[0m\n",
            "\u001b[0;32m~/mypy37/lib/python3.7/site-packages/seaborn/distributions.py\u001b[0m in \u001b[0;36mkdeplot\u001b[0;34m(data, data2, shade, vertical, kernel, bw, gridsize, cut, clip, legend, cumulative, shade_lowest, cbar, cbar_ax, cbar_kws, ax, **kwargs)\u001b[0m\n\u001b[1;32m    689\u001b[0m         ax \u003d _univariate_kdeplot(data, shade, vertical, kernel, bw,\n\u001b[1;32m    690\u001b[0m                                  \u001b[0mgridsize\u001b[0m\u001b[0;34m,\u001b[0m \u001b[0mcut\u001b[0m\u001b[0;34m,\u001b[0m \u001b[0mclip\u001b[0m\u001b[0;34m,\u001b[0m \u001b[0mlegend\u001b[0m\u001b[0;34m,\u001b[0m \u001b[0max\u001b[0m\u001b[0;34m,\u001b[0m\u001b[0;34m\u001b[0m\u001b[0;34m\u001b[0m\u001b[0m\n\u001b[0;32m--\u003e 691\u001b[0;31m                                  cumulative\u003dcumulative, **kwargs)\n\u001b[0m\u001b[1;32m    692\u001b[0m \u001b[0;34m\u001b[0m\u001b[0m\n\u001b[1;32m    693\u001b[0m     \u001b[0;32mreturn\u001b[0m \u001b[0max\u001b[0m\u001b[0;34m\u001b[0m\u001b[0;34m\u001b[0m\u001b[0m\n",
            "\u001b[0;32m~/mypy37/lib/python3.7/site-packages/seaborn/distributions.py\u001b[0m in \u001b[0;36m_univariate_kdeplot\u001b[0;34m(data, shade, vertical, kernel, bw, gridsize, cut, clip, legend, ax, cumulative, **kwargs)\u001b[0m\n\u001b[1;32m    292\u001b[0m                               \u001b[0;34m\"only implemented in statsmodels.\"\u001b[0m\u001b[0;34m\u001b[0m\u001b[0;34m\u001b[0m\u001b[0m\n\u001b[1;32m    293\u001b[0m                               \"Please install statsmodels.\")\n\u001b[0;32m--\u003e 294\u001b[0;31m         \u001b[0mx\u001b[0m\u001b[0;34m,\u001b[0m \u001b[0my\u001b[0m \u001b[0;34m\u003d\u001b[0m \u001b[0m_scipy_univariate_kde\u001b[0m\u001b[0;34m(\u001b[0m\u001b[0mdata\u001b[0m\u001b[0;34m,\u001b[0m \u001b[0mbw\u001b[0m\u001b[0;34m,\u001b[0m \u001b[0mgridsize\u001b[0m\u001b[0;34m,\u001b[0m \u001b[0mcut\u001b[0m\u001b[0;34m,\u001b[0m \u001b[0mclip\u001b[0m\u001b[0;34m)\u001b[0m\u001b[0;34m\u001b[0m\u001b[0;34m\u001b[0m\u001b[0m\n\u001b[0m\u001b[1;32m    295\u001b[0m \u001b[0;34m\u001b[0m\u001b[0m\n\u001b[1;32m    296\u001b[0m     \u001b[0;31m# Make sure the density is nonnegative\u001b[0m\u001b[0;34m\u001b[0m\u001b[0;34m\u001b[0m\u001b[0;34m\u001b[0m\u001b[0m\n",
            "\u001b[0;32m~/mypy37/lib/python3.7/site-packages/seaborn/distributions.py\u001b[0m in \u001b[0;36m_scipy_univariate_kde\u001b[0;34m(data, bw, gridsize, cut, clip)\u001b[0m\n\u001b[1;32m    364\u001b[0m     \u001b[0;34m\"\"\"Compute a univariate kernel density estimate using scipy.\"\"\"\u001b[0m\u001b[0;34m\u001b[0m\u001b[0;34m\u001b[0m\u001b[0m\n\u001b[1;32m    365\u001b[0m     \u001b[0;32mtry\u001b[0m\u001b[0;34m:\u001b[0m\u001b[0;34m\u001b[0m\u001b[0;34m\u001b[0m\u001b[0m\n\u001b[0;32m--\u003e 366\u001b[0;31m         \u001b[0mkde\u001b[0m \u001b[0;34m\u003d\u001b[0m \u001b[0mstats\u001b[0m\u001b[0;34m.\u001b[0m\u001b[0mgaussian_kde\u001b[0m\u001b[0;34m(\u001b[0m\u001b[0mdata\u001b[0m\u001b[0;34m,\u001b[0m \u001b[0mbw_method\u001b[0m\u001b[0;34m\u003d\u001b[0m\u001b[0mbw\u001b[0m\u001b[0;34m)\u001b[0m\u001b[0;34m\u001b[0m\u001b[0;34m\u001b[0m\u001b[0m\n\u001b[0m\u001b[1;32m    367\u001b[0m     \u001b[0;32mexcept\u001b[0m \u001b[0mTypeError\u001b[0m\u001b[0;34m:\u001b[0m\u001b[0;34m\u001b[0m\u001b[0;34m\u001b[0m\u001b[0m\n\u001b[1;32m    368\u001b[0m         \u001b[0mkde\u001b[0m \u001b[0;34m\u003d\u001b[0m \u001b[0mstats\u001b[0m\u001b[0;34m.\u001b[0m\u001b[0mgaussian_kde\u001b[0m\u001b[0;34m(\u001b[0m\u001b[0mdata\u001b[0m\u001b[0;34m)\u001b[0m\u001b[0;34m\u001b[0m\u001b[0;34m\u001b[0m\u001b[0m\n",
            "\u001b[0;32m~/mypy37/lib/python3.7/site-packages/scipy/stats/kde.py\u001b[0m in \u001b[0;36m__init__\u001b[0;34m(self, dataset, bw_method)\u001b[0m\n\u001b[1;32m    170\u001b[0m \u001b[0;34m\u001b[0m\u001b[0m\n\u001b[1;32m    171\u001b[0m         \u001b[0mself\u001b[0m\u001b[0;34m.\u001b[0m\u001b[0md\u001b[0m\u001b[0;34m,\u001b[0m \u001b[0mself\u001b[0m\u001b[0;34m.\u001b[0m\u001b[0mn\u001b[0m \u001b[0;34m\u003d\u001b[0m \u001b[0mself\u001b[0m\u001b[0;34m.\u001b[0m\u001b[0mdataset\u001b[0m\u001b[0;34m.\u001b[0m\u001b[0mshape\u001b[0m\u001b[0;34m\u001b[0m\u001b[0;34m\u001b[0m\u001b[0m\n\u001b[0;32m--\u003e 172\u001b[0;31m         \u001b[0mself\u001b[0m\u001b[0;34m.\u001b[0m\u001b[0mset_bandwidth\u001b[0m\u001b[0;34m(\u001b[0m\u001b[0mbw_method\u001b[0m\u001b[0;34m\u003d\u001b[0m\u001b[0mbw_method\u001b[0m\u001b[0;34m)\u001b[0m\u001b[0;34m\u001b[0m\u001b[0;34m\u001b[0m\u001b[0m\n\u001b[0m\u001b[1;32m    173\u001b[0m \u001b[0;34m\u001b[0m\u001b[0m\n\u001b[1;32m    174\u001b[0m     \u001b[0;32mdef\u001b[0m \u001b[0mevaluate\u001b[0m\u001b[0;34m(\u001b[0m\u001b[0mself\u001b[0m\u001b[0;34m,\u001b[0m \u001b[0mpoints\u001b[0m\u001b[0;34m)\u001b[0m\u001b[0;34m:\u001b[0m\u001b[0;34m\u001b[0m\u001b[0;34m\u001b[0m\u001b[0m\n",
            "\u001b[0;32m~/mypy37/lib/python3.7/site-packages/scipy/stats/kde.py\u001b[0m in \u001b[0;36mset_bandwidth\u001b[0;34m(self, bw_method)\u001b[0m\n\u001b[1;32m    497\u001b[0m             \u001b[0;32mraise\u001b[0m \u001b[0mValueError\u001b[0m\u001b[0;34m(\u001b[0m\u001b[0mmsg\u001b[0m\u001b[0;34m)\u001b[0m\u001b[0;34m\u001b[0m\u001b[0;34m\u001b[0m\u001b[0m\n\u001b[1;32m    498\u001b[0m \u001b[0;34m\u001b[0m\u001b[0m\n\u001b[0;32m--\u003e 499\u001b[0;31m         \u001b[0mself\u001b[0m\u001b[0;34m.\u001b[0m\u001b[0m_compute_covariance\u001b[0m\u001b[0;34m(\u001b[0m\u001b[0;34m)\u001b[0m\u001b[0;34m\u001b[0m\u001b[0;34m\u001b[0m\u001b[0m\n\u001b[0m\u001b[1;32m    500\u001b[0m \u001b[0;34m\u001b[0m\u001b[0m\n\u001b[1;32m    501\u001b[0m     \u001b[0;32mdef\u001b[0m \u001b[0m_compute_covariance\u001b[0m\u001b[0;34m(\u001b[0m\u001b[0mself\u001b[0m\u001b[0;34m)\u001b[0m\u001b[0;34m:\u001b[0m\u001b[0;34m\u001b[0m\u001b[0;34m\u001b[0m\u001b[0m\n",
            "\u001b[0;32m~/mypy37/lib/python3.7/site-packages/scipy/stats/kde.py\u001b[0m in \u001b[0;36m_compute_covariance\u001b[0;34m(self)\u001b[0m\n\u001b[1;32m    508\u001b[0m             self._data_covariance \u003d atleast_2d(np.cov(self.dataset, rowvar\u003d1,\n\u001b[1;32m    509\u001b[0m                                                bias\u003dFalse))\n\u001b[0;32m--\u003e 510\u001b[0;31m             \u001b[0mself\u001b[0m\u001b[0;34m.\u001b[0m\u001b[0m_data_inv_cov\u001b[0m \u001b[0;34m\u003d\u001b[0m \u001b[0mlinalg\u001b[0m\u001b[0;34m.\u001b[0m\u001b[0minv\u001b[0m\u001b[0;34m(\u001b[0m\u001b[0mself\u001b[0m\u001b[0;34m.\u001b[0m\u001b[0m_data_covariance\u001b[0m\u001b[0;34m)\u001b[0m\u001b[0;34m\u001b[0m\u001b[0;34m\u001b[0m\u001b[0m\n\u001b[0m\u001b[1;32m    511\u001b[0m \u001b[0;34m\u001b[0m\u001b[0m\n\u001b[1;32m    512\u001b[0m         \u001b[0mself\u001b[0m\u001b[0;34m.\u001b[0m\u001b[0mcovariance\u001b[0m \u001b[0;34m\u003d\u001b[0m \u001b[0mself\u001b[0m\u001b[0;34m.\u001b[0m\u001b[0m_data_covariance\u001b[0m \u001b[0;34m*\u001b[0m \u001b[0mself\u001b[0m\u001b[0;34m.\u001b[0m\u001b[0mfactor\u001b[0m\u001b[0;34m**\u001b[0m\u001b[0;36m2\u001b[0m\u001b[0;34m\u001b[0m\u001b[0;34m\u001b[0m\u001b[0m\n",
            "\u001b[0;32m~/mypy37/lib/python3.7/site-packages/scipy/linalg/basic.py\u001b[0m in \u001b[0;36minv\u001b[0;34m(a, overwrite_a, check_finite)\u001b[0m\n\u001b[1;32m    973\u001b[0m         \u001b[0minv_a\u001b[0m\u001b[0;34m,\u001b[0m \u001b[0minfo\u001b[0m \u001b[0;34m\u003d\u001b[0m \u001b[0mgetri\u001b[0m\u001b[0;34m(\u001b[0m\u001b[0mlu\u001b[0m\u001b[0;34m,\u001b[0m \u001b[0mpiv\u001b[0m\u001b[0;34m,\u001b[0m \u001b[0mlwork\u001b[0m\u001b[0;34m\u003d\u001b[0m\u001b[0mlwork\u001b[0m\u001b[0;34m,\u001b[0m \u001b[0moverwrite_lu\u001b[0m\u001b[0;34m\u003d\u001b[0m\u001b[0;36m1\u001b[0m\u001b[0;34m)\u001b[0m\u001b[0;34m\u001b[0m\u001b[0;34m\u001b[0m\u001b[0m\n\u001b[1;32m    974\u001b[0m     \u001b[0;32mif\u001b[0m \u001b[0minfo\u001b[0m \u001b[0;34m\u003e\u001b[0m \u001b[0;36m0\u001b[0m\u001b[0;34m:\u001b[0m\u001b[0;34m\u001b[0m\u001b[0;34m\u001b[0m\u001b[0m\n\u001b[0;32m--\u003e 975\u001b[0;31m         \u001b[0;32mraise\u001b[0m \u001b[0mLinAlgError\u001b[0m\u001b[0;34m(\u001b[0m\u001b[0;34m\"singular matrix\"\u001b[0m\u001b[0;34m)\u001b[0m\u001b[0;34m\u001b[0m\u001b[0;34m\u001b[0m\u001b[0m\n\u001b[0m\u001b[1;32m    976\u001b[0m     \u001b[0;32mif\u001b[0m \u001b[0minfo\u001b[0m \u001b[0;34m\u003c\u001b[0m \u001b[0;36m0\u001b[0m\u001b[0;34m:\u001b[0m\u001b[0;34m\u001b[0m\u001b[0;34m\u001b[0m\u001b[0m\n\u001b[1;32m    977\u001b[0m         raise ValueError(\u0027illegal value in %d-th argument of internal \u0027\n",
            "\u001b[0;31mLinAlgError\u001b[0m: singular matrix"
          ]
        },
        {
          "data": {
            "image/png": "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\u003d\u003d\n",
            "text/plain": [
              "\u003cFigure size 432x288 with 1 Axes\u003e"
            ]
          },
          "metadata": {
            "needs_background": "light"
          },
          "output_type": "display_data"
        }
      ],
      "source": [
        "# Import stats libraries\n",
        "from scipy.stats import  kstest, ttest_ind, ranksums\n",
        "\n",
        "# Group data by classifier name\n",
        "groups \u003d _df.groupby(by\u003d\u0027name\u0027)\n",
        "# Check if the data follows a normal distribution\n",
        "normal \u003d True\n",
        "# Significance level\n",
        "alpha \u003d 0.05\n",
        "# Iterate over groups\n",
        "for name, group in groups:\n",
        "    # Plot data\n",
        "    sns.distplot(group.auc, label\u003dname)\n",
        "    # Data distribution normal\n",
        "    # KS test if the data is normal\n",
        "    _, p_value \u003d kstest(group.auc, \u0027norm\u0027)\n",
        "    print(\u0027KS-test {} p-value: {}\u0027.format(name, p_value))\n",
        "    if p_value \u003c alpha:\n",
        "        normal \u003d False\n",
        "        \n",
        "print(\u0027Normal: {}\u0027.format(normal))\n",
        "plt.legend()\n"
      ]
    },
    {
      "cell_type": "code",
      "execution_count": null,
      "metadata": {
        "pycharm": {
          "is_executing": false,
          "metadata": false,
          "name": "#%%\n"
        }
      },
      "outputs": [],
      "source": [
        "# Distribution was not normal\n",
        "# Get values from each classifier\n",
        "a \u003d groups.get_group(\u0027Random Forest\u0027).auc\n",
        "b \u003d groups.get_group(\u0027MLP\u0027).auc\n",
        "significance_test \u003d ranksums\n",
        "\n",
        "# Test for significant difference\n",
        "_, p_value \u003d significance_test(a, b)\n",
        "print(\u0027Significant difference: {} (p_value: {}, alpha: {}, normal: {})\u0027.format(p_value \u003c alpha, p_value, alpha, normal))"
      ]
    }
  ],
  "metadata": {
    "kernelspec": {
      "display_name": "Python 3",
      "language": "python",
      "name": "python3"
    },
    "language_info": {
      "codemirror_mode": {
        "name": "ipython",
        "version": 3
      },
      "file_extension": ".py",
      "mimetype": "text/x-python",
      "name": "python",
      "nbconvert_exporter": "python",
      "pygments_lexer": "ipython3",
      "version": "3.7.1"
    },
    "stem_cell": {
      "cell_type": "raw",
      "metadata": {
        "pycharm": {
          "metadata": false
        }
      },
      "source": ""
    }
  },
  "nbformat": 4,
  "nbformat_minor": 2
}